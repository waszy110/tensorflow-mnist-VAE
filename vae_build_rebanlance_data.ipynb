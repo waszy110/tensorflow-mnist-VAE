{
 "cells": [
  {
   "cell_type": "code",
   "execution_count": 1,
   "metadata": {},
   "outputs": [],
   "source": [
    "import tensorflow as tf\n",
    "import numpy as np\n",
    "import mnist_data\n",
    "import os\n",
    "# import beta_vae as vae\n",
    "import vae\n",
    "import plot_utils\n",
    "import glob\n",
    "import random\n",
    "import matplotlib.pyplot as plt\n",
    "import cv2\n",
    "os.environ[\"TF_CPP_MIN_LOG_LEVEL\"] = \"2\"\n",
    "import random"
   ]
  },
  {
   "cell_type": "markdown",
   "metadata": {},
   "source": [
    "配置参数"
   ]
  },
  {
   "cell_type": "code",
   "execution_count": 2,
   "metadata": {},
   "outputs": [],
   "source": [
    "#gpu\n",
    "os.environ[\"CUDA_VISIBLE_DEVICES\"] = \"1\"\n",
    "#不平衡 类别\n",
    "choose_c=3\n",
    "#图像尺寸\n",
    "IMAGE_SIZE_MNIST = 28\n",
    "#隐变量维度\n",
    "dim_z=3\n",
    "#alpha classification loss balance\n",
    "alpha=400\n",
    "#隐层节点数\n",
    "n_hidden=500\n",
    "#学习率\n",
    "learn_rate=1e-3\n",
    "#训练轮数\n",
    "n_epochs=50\n",
    "#批量数目\n",
    "batch_size=256\n",
    "#标签样式 one-hot编码\n",
    "one_hot=np.eye(10)\n",
    "#结果保存路径\n",
    "path=os.path.join(os.getcwd(),'result_refine')\n",
    "if not os.path.exists(path):\n",
    "    os.system('mkdir '+path)\n",
    "RESULTS_DIR=path\n",
    "#是否加入噪声，denoise vae\n",
    "ADD_NOISE=False\n",
    "dim_img = IMAGE_SIZE_MNIST**2\n",
    "#beta-vae\n",
    "beta=2.0\n",
    "\n",
    "#画图\n",
    "PRR=True\n",
    "PRR_n_img_x=10\n",
    "PRR_n_img_y=10\n",
    "PRR_resize_factor=1.0"
   ]
  },
  {
   "cell_type": "markdown",
   "metadata": {},
   "source": [
    "### 准备训练数据"
   ]
  },
  {
   "cell_type": "code",
   "execution_count": 3,
   "metadata": {},
   "outputs": [
    {
     "name": "stderr",
     "output_type": "stream",
     "text": [
      "WARNING: Logging before flag parsing goes to stderr.\n",
      "W0918 13:50:47.043080 140166189811520 deprecation_wrapper.py:119] From /home/yuemei.zhu/tensorflow-mnist-VAE/mnist_data.py:30: The name tf.gfile.Exists is deprecated. Please use tf.io.gfile.exists instead.\n",
      "\n"
     ]
    },
    {
     "name": "stdout",
     "output_type": "stream",
     "text": [
      "Extracting data/train-images-idx3-ubyte.gz\n",
      "Extracting data/train-labels-idx1-ubyte.gz\n",
      "Extracting data/t10k-images-idx3-ubyte.gz\n",
      "Extracting data/t10k-labels-idx1-ubyte.gz\n"
     ]
    }
   ],
   "source": [
    "train_total_data, train_size,_,_, test_data, test_labels = mnist_data.prepare_MNIST_data()"
   ]
  },
  {
   "cell_type": "markdown",
   "metadata": {},
   "source": [
    "### 改变数据集，获得类别不平衡数据集"
   ]
  },
  {
   "cell_type": "code",
   "execution_count": 4,
   "metadata": {},
   "outputs": [],
   "source": [
    "ind=np.zeros(train_total_data.shape[0])\n",
    "unbanlance_p=0.07\n",
    "for p in range(train_total_data.shape[0]):\n",
    "    ind[p]=np.argmax(train_total_data[p,-10:])\n",
    "no_c_array=train_total_data[~np.equal(ind,choose_c)]\n",
    "c_array=train_total_data[np.equal(ind,choose_c)]\n",
    "origin_num_c=c_array.shape[0]\n",
    "remain_num=int(c_array.shape[0]*unbanlance_p)\n",
    "remain_c=c_array[:remain_num]\n",
    "train_unbanlance_data=np.concatenate([no_c_array,remain_c],axis=0)\n",
    "ub_train_size=train_unbanlance_data.shape[0]"
   ]
  },
  {
   "cell_type": "markdown",
   "metadata": {},
   "source": [
    "#### check"
   ]
  },
  {
   "cell_type": "code",
   "execution_count": 5,
   "metadata": {},
   "outputs": [
    {
     "name": "stdout",
     "output_type": "stream",
     "text": [
      "unbanlance class: 3 ,original samples: 5638 ,unbanlance samples : 563 \n",
      "unbanlance class: 3 , samples of dataset: 55000 ,now samples : 49925 \n",
      "show sample of unbanlance class\n",
      "one hot code: [0. 0. 0. 1. 0. 0. 0. 0. 0. 0.]\n"
     ]
    },
    {
     "data": {
      "text/plain": [
       "<matplotlib.image.AxesImage at 0x7ff7216dfba8>"
      ]
     },
     "execution_count": 5,
     "metadata": {},
     "output_type": "execute_result"
    },
    {
     "data": {
      "image/png": "[encoded data removed]",
      "text/plain": [
       "<Figure size 432x288 with 1 Axes>"
      ]
     },
     "metadata": {
      "needs_background": "light"
     },
     "output_type": "display_data"
    }
   ],
   "source": [
    "print('unbanlance class: %d ,original samples: %d ,unbanlance samples : %d '\n",
    "      %(choose_c,origin_num_c,remain_num))\n",
    "print('unbanlance class: %d , samples of dataset: %d ,now samples : %d '\n",
    "      %(choose_c,train_size,ub_train_size))\n",
    "print('show sample of unbanlance class')\n",
    "index=random.choice(range(remain_num))\n",
    "print('one hot code:',remain_c[index,-10:])\n",
    "plt.imshow(remain_c[index,:-10].reshape([28,28]))"
   ]
  },
  {
   "cell_type": "markdown",
   "metadata": {},
   "source": [
    "### 定义图结构"
   ]
  },
  {
   "cell_type": "code",
   "execution_count": 6,
   "metadata": {},
   "outputs": [
    {
     "name": "stderr",
     "output_type": "stream",
     "text": [
      "W0918 10:06:57.817030 140703613482816 deprecation_wrapper.py:119] From /home/yuemei.zhu/tensorflow-mnist-VAE/vae.py:5: The name tf.variable_scope is deprecated. Please use tf.compat.v1.variable_scope instead.\n",
      "\n",
      "W0918 10:06:58.717234 140703613482816 lazy_loader.py:50] \n",
      "The TensorFlow contrib module will not be included in TensorFlow 2.0.\n",
      "For more information, please see:\n",
      "  * https://github.com/tensorflow/community/blob/master/rfcs/20180907-contrib-sunset.md\n",
      "  * https://github.com/tensorflow/addons\n",
      "  * https://github.com/tensorflow/io (for I/O related ops)\n",
      "If you depend on functionality not listed there, please file an issue.\n",
      "\n",
      "W0918 10:06:58.718605 140703613482816 deprecation_wrapper.py:119] From /home/yuemei.zhu/tensorflow-mnist-VAE/vae.py:11: The name tf.get_variable is deprecated. Please use tf.compat.v1.get_variable instead.\n",
      "\n",
      "W0918 10:06:58.733260 140703613482816 deprecation.py:506] From /home/yuemei.zhu/tensorflow-mnist-VAE/vae.py:15: calling dropout (from tensorflow.python.ops.nn_ops) with keep_prob is deprecated and will be removed in a future version.\n",
      "Instructions for updating:\n",
      "Please use `rate` instead of `keep_prob`. Rate should be set to `rate = 1 - keep_prob`.\n",
      "W0918 10:06:58.779548 140703613482816 deprecation_wrapper.py:119] From /home/yuemei.zhu/tensorflow-mnist-VAE/vae.py:74: The name tf.random_normal is deprecated. Please use tf.random.normal instead.\n",
      "\n",
      "W0918 10:06:58.835819 140703613482816 deprecation_wrapper.py:119] From /home/yuemei.zhu/tensorflow-mnist-VAE/vae.py:81: The name tf.log is deprecated. Please use tf.math.log instead.\n",
      "\n",
      "W0918 10:06:58.856166 140703613482816 deprecation.py:506] From /home/yuemei.zhu/.local/lib/python3.6/site-packages/tensorflow/python/ops/init_ops.py:1251: calling VarianceScaling.__init__ (from tensorflow.python.ops.init_ops) with dtype is deprecated and will be removed in a future version.\n",
      "Instructions for updating:\n",
      "Call initializer instance with the dtype argument instead of passing it to the constructor\n",
      "W0918 10:06:59.228905 140703613482816 deprecation.py:323] From /home/yuemei.zhu/.local/lib/python3.6/site-packages/tensorflow/python/ops/math_grad.py:1250: add_dispatch_support.<locals>.wrapper (from tensorflow.python.ops.array_ops) is deprecated and will be removed in a future version.\n",
      "Instructions for updating:\n",
      "Use tf.where in 2.0, which has the same broadcast rule as np.where\n"
     ]
    }
   ],
   "source": [
    "\"\"\" build graph \"\"\"\n",
    "# input placeholders\n",
    "# In denoising-autoencoder, x_hat == x + noise, otherwise x_hat == x\n",
    "x_hat = tf.placeholder(tf.float32, shape=[None, dim_img], name='input_img')\n",
    "x = tf.placeholder(tf.float32, shape=[None, dim_img], name='target_img')\n",
    "x_label = tf.placeholder(tf.float32, shape=[None, 10], name='img_label')\n",
    "\n",
    "# dropout\n",
    "keep_prob = tf.placeholder(tf.float32, name='keep_prob')\n",
    "\n",
    "# input for PMLR\n",
    "z_in = tf.placeholder(tf.float32, shape=[None, dim_z], name='latent_variable')\n",
    "\n",
    "#vae\n",
    "y, z, cost, neg_marginal_likelihood, KL_divergence= vae.autoencoder(x_hat, x, dim_img, dim_z, n_hidden, keep_prob)\n",
    "z_tmp=tf.layers.Dense(10)(z)\n",
    "z_class=tf.nn.softmax(z_tmp)\n",
    "# print(z_cl)\n",
    "classifation_loss=tf.reduce_mean(x_label * tf.log(z_class) + (1 - x_label) * tf.log(1 - z_class))\n",
    "# network architecture beta vae\n",
    "# y, z, loss, neg_marginal_likelihood, KL_divergence = vae.autoencoder(x_hat, x, dim_img, dim_z, n_hidden, keep_prob,beta)\n",
    "loss=cost-alpha*classifation_loss\n",
    "# optimization\n",
    "train_op = tf.train.AdamOptimizer(learn_rate).minimize(loss)\n",
    "\n",
    "decoded = vae.decoder(z_in, dim_img, n_hidden)"
   ]
  },
  {
   "cell_type": "markdown",
   "metadata": {},
   "source": [
    "### 在类别不均衡数据集上训练VAE"
   ]
  },
  {
   "cell_type": "code",
   "execution_count": 7,
   "metadata": {},
   "outputs": [
    {
     "name": "stdout",
     "output_type": "stream",
     "text": [
      "epoch 0: L_tot 265.08 L_likelihood 183.61 L_divergence 19.43 classifation_loss -0.16 \n",
      "epoch 1: L_tot 227.97 L_likelihood 160.94 L_divergence 20.62 classifation_loss -0.12 \n",
      "epoch 2: L_tot 215.46 L_likelihood 157.14 L_divergence 20.22 classifation_loss -0.10 \n",
      "epoch 3: L_tot 197.30 L_likelihood 147.65 L_divergence 18.95 classifation_loss -0.08 \n",
      "epoch 4: L_tot 193.25 L_likelihood 145.39 L_divergence 17.08 classifation_loss -0.08 \n",
      "epoch 5: L_tot 187.87 L_likelihood 145.66 L_divergence 16.81 classifation_loss -0.06 \n",
      "epoch 6: L_tot 185.39 L_likelihood 148.33 L_divergence 15.63 classifation_loss -0.05 \n",
      "epoch 7: L_tot 178.49 L_likelihood 143.33 L_divergence 15.72 classifation_loss -0.05 \n",
      "epoch 8: L_tot 167.66 L_likelihood 135.73 L_divergence 15.62 classifation_loss -0.04 \n",
      "epoch 9: L_tot 173.98 L_likelihood 140.93 L_divergence 14.36 classifation_loss -0.05 \n",
      "epoch 10: L_tot 167.29 L_likelihood 136.63 L_divergence 14.96 classifation_loss -0.04 \n",
      "epoch 11: L_tot 162.75 L_likelihood 133.26 L_divergence 14.65 classifation_loss -0.04 \n",
      "epoch 12: L_tot 169.77 L_likelihood 137.39 L_divergence 13.84 classifation_loss -0.05 \n",
      "epoch 13: L_tot 163.92 L_likelihood 136.90 L_divergence 14.02 classifation_loss -0.03 \n",
      "epoch 14: L_tot 167.71 L_likelihood 139.93 L_divergence 13.27 classifation_loss -0.04 \n",
      "epoch 15: L_tot 153.53 L_likelihood 129.77 L_divergence 13.45 classifation_loss -0.03 \n",
      "epoch 16: L_tot 162.14 L_likelihood 136.79 L_divergence 12.69 classifation_loss -0.03 \n",
      "epoch 17: L_tot 149.85 L_likelihood 129.38 L_divergence 13.47 classifation_loss -0.02 \n",
      "epoch 18: L_tot 161.83 L_likelihood 137.82 L_divergence 12.79 classifation_loss -0.03 \n",
      "epoch 19: L_tot 151.94 L_likelihood 130.15 L_divergence 12.71 classifation_loss -0.02 \n",
      "epoch 20: L_tot 158.43 L_likelihood 137.19 L_divergence 12.06 classifation_loss -0.02 \n",
      "epoch 21: L_tot 154.91 L_likelihood 132.21 L_divergence 12.70 classifation_loss -0.03 \n",
      "epoch 22: L_tot 149.34 L_likelihood 129.06 L_divergence 12.18 classifation_loss -0.02 \n",
      "epoch 23: L_tot 149.10 L_likelihood 129.87 L_divergence 12.20 classifation_loss -0.02 \n",
      "epoch 24: L_tot 148.81 L_likelihood 131.73 L_divergence 12.41 classifation_loss -0.01 \n",
      "epoch 25: L_tot 152.48 L_likelihood 133.50 L_divergence 12.06 classifation_loss -0.02 \n",
      "epoch 26: L_tot 147.32 L_likelihood 130.12 L_divergence 11.69 classifation_loss -0.01 \n",
      "epoch 27: L_tot 154.89 L_likelihood 135.17 L_divergence 11.77 classifation_loss -0.02 \n",
      "epoch 28: L_tot 151.78 L_likelihood 131.23 L_divergence 11.46 classifation_loss -0.02 \n",
      "epoch 29: L_tot 145.70 L_likelihood 128.22 L_divergence 11.77 classifation_loss -0.01 \n",
      "epoch 30: L_tot 144.90 L_likelihood 128.59 L_divergence 11.66 classifation_loss -0.01 \n",
      "epoch 31: L_tot 148.17 L_likelihood 129.42 L_divergence 11.34 classifation_loss -0.02 \n",
      "epoch 32: L_tot 145.18 L_likelihood 130.17 L_divergence 11.85 classifation_loss -0.01 \n",
      "epoch 33: L_tot 139.60 L_likelihood 124.61 L_divergence 11.39 classifation_loss -0.01 \n",
      "epoch 34: L_tot 146.77 L_likelihood 128.07 L_divergence 11.28 classifation_loss -0.02 \n",
      "epoch 35: L_tot 145.00 L_likelihood 129.11 L_divergence 11.38 classifation_loss -0.01 \n",
      "epoch 36: L_tot 140.20 L_likelihood 123.83 L_divergence 11.37 classifation_loss -0.01 \n",
      "epoch 37: L_tot 143.25 L_likelihood 126.55 L_divergence 11.06 classifation_loss -0.01 \n",
      "epoch 38: L_tot 147.51 L_likelihood 133.05 L_divergence 11.06 classifation_loss -0.01 \n",
      "epoch 39: L_tot 141.94 L_likelihood 126.76 L_divergence 11.28 classifation_loss -0.01 \n",
      "epoch 40: L_tot 142.31 L_likelihood 126.64 L_divergence 11.06 classifation_loss -0.01 \n",
      "epoch 41: L_tot 138.04 L_likelihood 122.94 L_divergence 11.22 classifation_loss -0.01 \n",
      "epoch 42: L_tot 138.76 L_likelihood 123.80 L_divergence 11.10 classifation_loss -0.01 \n",
      "epoch 43: L_tot 138.58 L_likelihood 124.35 L_divergence 10.89 classifation_loss -0.01 \n",
      "epoch 44: L_tot 142.46 L_likelihood 128.69 L_divergence 11.13 classifation_loss -0.01 \n",
      "epoch 45: L_tot 139.83 L_likelihood 124.76 L_divergence 11.17 classifation_loss -0.01 \n",
      "epoch 46: L_tot 142.06 L_likelihood 127.54 L_divergence 10.82 classifation_loss -0.01 \n",
      "epoch 47: L_tot 139.97 L_likelihood 125.58 L_divergence 10.65 classifation_loss -0.01 \n",
      "epoch 48: L_tot 138.98 L_likelihood 124.93 L_divergence 10.74 classifation_loss -0.01 \n",
      "epoch 49: L_tot 139.87 L_likelihood 125.87 L_divergence 11.07 classifation_loss -0.01 \n"
     ]
    }
   ],
   "source": [
    "np.random.seed(100)\n",
    "n_samples=ub_train_size\n",
    "\n",
    "\"\"\" training \"\"\"\n",
    "\n",
    "# Plot for reproduce performance\n",
    "if PRR:\n",
    "    PRR = plot_utils.Plot_Reproduce_Performance(RESULTS_DIR, PRR_n_img_x, PRR_n_img_y, IMAGE_SIZE_MNIST, IMAGE_SIZE_MNIST, PRR_resize_factor)\n",
    "\n",
    "    x_PRR = test_data[0:PRR.n_tot_imgs, :]\n",
    "\n",
    "    x_PRR_img = x_PRR.reshape(PRR.n_tot_imgs, IMAGE_SIZE_MNIST, IMAGE_SIZE_MNIST)\n",
    "    PRR.save_images(x_PRR_img, name='input.jpg')\n",
    "\n",
    "    if ADD_NOISE:\n",
    "        x_PRR = x_PRR * np.random.randint(2, size=x_PRR.shape)\n",
    "        x_PRR += np.random.randint(2, size=x_PRR.shape)\n",
    "\n",
    "        x_PRR_img = x_PRR.reshape(PRR.n_tot_imgs, IMAGE_SIZE_MNIST, IMAGE_SIZE_MNIST)\n",
    "        PRR.save_images(x_PRR_img, name='input_noise.jpg')\n",
    "\n",
    "# Plot for manifold learning result\n",
    "if PMLR and dim_z == 2:\n",
    "\n",
    "    PMLR = plot_utils.Plot_Manifold_Learning_Result(RESULTS_DIR, PMLR_n_img_x, PMLR_n_img_y, IMAGE_SIZE_MNIST, IMAGE_SIZE_MNIST, PMLR_resize_factor, PMLR_z_range)\n",
    "\n",
    "    x_PMLR = test_data[0:PMLR_n_samples, :]\n",
    "    id_PMLR = test_labels[0:PMLR_n_samples, :]\n",
    "\n",
    "    if ADD_NOISE:\n",
    "        x_PMLR = x_PMLR * np.random.randint(2, size=x_PMLR.shape)\n",
    "        x_PMLR += np.random.randint(2, size=x_PMLR.shape)\n",
    "\n",
    "    decoded = vae.decoder(z_in, dim_img, n_hidden)\n",
    "total_batch = int(n_samples / batch_size)\n",
    "min_tot_loss = 1e99\n",
    "config = tf.ConfigProto()\n",
    "config.gpu_options.per_process_gpu_memory_fraction = 0.05  # 占用GPU90%的显存\n",
    "sess = tf.Session(config=config)\n",
    "# with tf.Session() as sess:\n",
    "\n",
    "sess.run(tf.global_variables_initializer(), feed_dict={keep_prob : 0.9})\n",
    "\n",
    "for epoch in range(n_epochs):\n",
    "\n",
    "    # Random shuffling\n",
    "    np.random.shuffle(train_unbanlance_data)\n",
    "    train_data_ = train_unbanlance_data[:, :-mnist_data.NUM_LABELS]\n",
    "    train_label_= train_unbanlance_data[:, -mnist_data.NUM_LABELS:]\n",
    "    \n",
    "    # Loop over all batches\n",
    "    for i in range(total_batch):\n",
    "        # Compute the offset of the current minibatch in the data.\n",
    "        offset = (i * batch_size) % (n_samples)\n",
    "        batch_xs_input = train_data_[offset:(offset + batch_size), :]\n",
    "        batch_xs_label = train_label_[offset:(offset + batch_size), :]\n",
    "        batch_xs_target = batch_xs_input\n",
    "\n",
    "        # add salt & pepper noise\n",
    "        if ADD_NOISE:\n",
    "            batch_xs_input = batch_xs_input * np.random.randint(2, size=batch_xs_input.shape)\n",
    "            batch_xs_input += np.random.randint(2, size=batch_xs_input.shape)\n",
    "\n",
    "        _, tot_loss, loss_likelihood, loss_divergence,class_loss= sess.run(\n",
    "            (train_op, loss, neg_marginal_likelihood, KL_divergence,classifation_loss),\n",
    "            feed_dict={x_hat: batch_xs_input, x: batch_xs_target, x_label:batch_xs_label,keep_prob : 0.9})\n",
    "\n",
    "    # print cost every epoch\n",
    "    print(\"epoch %d: L_tot %03.2f L_likelihood %03.2f L_divergence %03.2f classifation_loss %03.2f \" % (epoch, tot_loss, loss_likelihood, loss_divergence,class_loss))\n",
    "\n",
    "    # if minimum loss is updated or final epoch, plot results\n",
    "    if min_tot_loss > tot_loss or epoch+1 == n_epochs:\n",
    "        min_tot_loss = tot_loss\n",
    "        # Plot for reproduce performance\n",
    "        if PRR:\n",
    "            y_PRR = sess.run(y, feed_dict={x_hat: x_PRR, keep_prob : 1})\n",
    "            y_PRR_img = y_PRR.reshape(PRR.n_tot_imgs, IMAGE_SIZE_MNIST, IMAGE_SIZE_MNIST)\n",
    "            PRR.save_images(y_PRR_img, name=\"/PRR_epoch_%02d\" %(epoch) + \".jpg\")\n",
    "\n",
    "        # Plot for manifold learning result\n",
    "        if PMLR and dim_z == 2:\n",
    "            y_PMLR = sess.run(decoded, feed_dict={z_in: PMLR.z, keep_prob : 1})\n",
    "            y_PMLR_img = y_PMLR.reshape(PMLR.n_tot_imgs, IMAGE_SIZE_MNIST, IMAGE_SIZE_MNIST)\n",
    "            PMLR.save_images(y_PMLR_img, name=\"/PMLR_epoch_%02d\" % (epoch) + \".jpg\")\n",
    "\n",
    "            # plot distribution of labeled images\n",
    "            z_PMLR = sess.run(z, feed_dict={x_hat: x_PMLR, keep_prob : 1})\n",
    "            PMLR.save_scattered_image(z_PMLR,id_PMLR, name=\"/PMLR_map_epoch_%02d\" % (epoch) + \".jpg\")\n"
   ]
  },
  {
   "cell_type": "markdown",
   "metadata": {},
   "source": [
    "### 获得不平衡类别隐空间的均值和方差"
   ]
  },
  {
   "cell_type": "code",
   "execution_count": 8,
   "metadata": {},
   "outputs": [],
   "source": [
    "#设置batch size\n",
    "ub_batch_size=2\n",
    "target_batch = int(remain_num / ub_batch_size)\n",
    "\n",
    "#同一类别的隐变量\n",
    "vec_ari_a=np.zeros([target_batch*ub_batch_size,dim_z])\n",
    "for offset in range(target_batch):\n",
    "    x_batch=remain_c[:,:-10][offset*ub_batch_size:(offset+1)*ub_batch_size]\n",
    "    z_batch = sess.run(z, feed_dict={x_hat: x_batch, keep_prob : 1})\n",
    "    vec_ari_a[offset*ub_batch_size:(offset+1)*ub_batch_size]=z_batch\n",
    "mu_,sigma_=vec_ari_a.mean(axis=0),vec_ari_a.std(axis=0)\n"
   ]
  },
  {
   "cell_type": "markdown",
   "metadata": {},
   "source": [
    "#### check"
   ]
  },
  {
   "cell_type": "code",
   "execution_count": 9,
   "metadata": {},
   "outputs": [
    {
     "name": "stdout",
     "output_type": "stream",
     "text": [
      "samples of participate in compute vector arithmetic:562 \n",
      "mu:[0.66983513 0.2305172  0.08337113],sigma:[0.36866828 0.25986884 0.29233129]\n",
      "max value:[2.32028317 1.52025759 1.6400497 ],min value:[-1.5921998  -1.55284202 -0.91103178]\n"
     ]
    }
   ],
   "source": [
    "print('samples of participate in compute vector arithmetic:{} '.format(target_batch*ub_batch_size))\n",
    "print('mu:{},sigma:{}'.format(mu_,sigma_))\n",
    "print('max value:{},min value:{}'.format(np.max(vec_ari_a,axis=0),np.min(vec_ari_a,axis=0)))"
   ]
  },
  {
   "cell_type": "markdown",
   "metadata": {},
   "source": [
    "### 可视化在隐空间采样得到的图片"
   ]
  },
  {
   "cell_type": "code",
   "execution_count": 10,
   "metadata": {},
   "outputs": [
    {
     "data": {
      "image/png": "[encoded data removed]",
      "text/plain": [
       "<Figure size 720x720 with 9 Axes>"
      ]
     },
     "metadata": {
      "needs_background": "light"
     },
     "output_type": "display_data"
    }
   ],
   "source": [
    "c=0\n",
    "plt.figure(figsize=(10,10))\n",
    "for i in range(3):\n",
    "    for j in range(3):\n",
    "        z_sample_=mu_ + sigma_ * np.random.normal(0.0,1.0,mu_.shape)\n",
    "        y_PMLR = sess.run(decoded, feed_dict={z_in: z_sample_.reshape([1,-1]), keep_prob : 1})\n",
    "        label = sess.run(z_class, feed_dict={z: z_sample_.reshape([1,-1]), keep_prob : 1})\n",
    "        np.clip(y_PMLR,1e-8, 1 - 1e-8,out=y_PMLR)\n",
    "        loc=''.join([str(3),str(3),str(c+1)])\n",
    "        plt.subplot(eval(loc))\n",
    "        plt.xlabel('class:{}'.format(np.argmax(label)))\n",
    "        plt.imshow(y_PMLR.reshape([28,28]),cmap='gray')\n",
    "        c+=1\n",
    "# figpath=os.getcwd()+'/'+str(n_epochs)+'_'+str(dim_z)\n",
    "# if not os.path.exists(figpath):\n",
    "#     os.system('mkdir '+figpath)\n",
    "plt.show()"
   ]
  },
  {
   "cell_type": "markdown",
   "metadata": {},
   "source": [
    "### 测试隐空间分类器"
   ]
  },
  {
   "cell_type": "code",
   "execution_count": 11,
   "metadata": {},
   "outputs": [
    {
     "name": "stdout",
     "output_type": "stream",
     "text": [
      "0.9575\n"
     ]
    }
   ],
   "source": [
    "test_batch_size=2\n",
    "test_batch=int(test_data.shape[0]/test_batch_size)\n",
    "c=0\n",
    "for offset in range(test_batch):\n",
    "    x_batch=test_data[offset*test_batch_size:(offset+1)*test_batch_size]\n",
    "    label_batch=test_labels[offset*test_batch_size:(offset+1)*test_batch_size]\n",
    "    label = sess.run(z_class, feed_dict={x_hat: x_batch,keep_prob : 1})\n",
    "    c+=np.sum(np.argmax(label,axis=1)==np.argmax(label_batch,axis=1))\n",
    "print(c/test_batch/test_batch_size)"
   ]
  },
  {
   "cell_type": "markdown",
   "metadata": {},
   "source": [
    "### 使用VAE形成类别平衡的数据集"
   ]
  },
  {
   "cell_type": "code",
   "execution_count": 12,
   "metadata": {},
   "outputs": [],
   "source": [
    "train_rebanlance_data=np.zeros([train_size,794])\n",
    "train_rebanlance_dis_label=np.zeros([train_size,794])\n",
    "k=train_unbanlance_data.shape[0]\n",
    "train_rebanlance_data[:k]=train_unbanlance_data[:]\n",
    "train_rebanlance_dis_label[:k]=train_unbanlance_data[:]\n",
    "while k<train_size:\n",
    "    z_sample=mu_ + sigma_ * np.random.normal(0.0,1.0,mu_.shape)\n",
    "    y_reconstruct = sess.run(decoded,feed_dict={z_in: z_sample.reshape([1,-1]), keep_prob : 1})\n",
    "    np.clip(y_reconstruct,1e-8, 1 - 1e-8,out=y_reconstruct)\n",
    "    y_label = sess.run(z_class,feed_dict={x_hat: y_reconstruct.reshape([1,-1]), keep_prob : 1})\n",
    "    if np.argmax(y_label)!=choose_c:\n",
    "        continue\n",
    "    tmp1=np.concatenate([y_reconstruct,y_label],axis=1)\n",
    "    label_sample=one_hot[choose_c].reshape([1,-1])\n",
    "    tmp2=np.concatenate([y_reconstruct,label_sample],axis=1)\n",
    "    train_rebanlance_data[k]=tmp1\n",
    "    train_rebanlance_dis_label[k]=tmp2\n",
    "    k+=1\n",
    "\n",
    "# rb_train_size=train_rebanlance_data.shape[0]"
   ]
  },
  {
   "cell_type": "markdown",
   "metadata": {},
   "source": [
    "#### check"
   ]
  },
  {
   "cell_type": "code",
   "execution_count": 13,
   "metadata": {},
   "outputs": [
    {
     "name": "stdout",
     "output_type": "stream",
     "text": [
      "show sample of rebanlance dataset\n"
     ]
    },
    {
     "name": "stderr",
     "output_type": "stream",
     "text": [
      "/usr/local/lib/python3.6/dist-packages/matplotlib/text.py:1150: FutureWarning: elementwise comparison failed; returning scalar instead, but in the future will perform elementwise comparison\n",
      "  if s != self._text:\n"
     ]
    },
    {
     "data": {
      "image/png": "[encoded data removed]",
      "text/plain": [
       "<Figure size 432x288 with 1 Axes>"
      ]
     },
     "metadata": {
      "needs_background": "light"
     },
     "output_type": "display_data"
    },
    {
     "data": {
      "text/plain": [
       "<matplotlib.image.AxesImage at 0x7ff721634fd0>"
      ]
     },
     "execution_count": 13,
     "metadata": {},
     "output_type": "execute_result"
    },
    {
     "data": {
      "image/png": "[encoded data removed]",
      "text/plain": [
       "<Figure size 432x288 with 1 Axes>"
      ]
     },
     "metadata": {
      "needs_background": "light"
     },
     "output_type": "display_data"
    }
   ],
   "source": [
    "print('show sample of rebanlance dataset')\n",
    "index=random.choice(range(train_unbanlance_data.shape[0],train_size))\n",
    "plt.xlabel(train_rebanlance_data[index,-10:])\n",
    "plt.imshow(train_rebanlance_data[index,:-10].reshape([28,28]))\n",
    "plt.show()\n",
    "index=random.choice(range(train_unbanlance_data.shape[0],train_size))\n",
    "plt.xlabel(train_rebanlance_dis_label[index,-10:])\n",
    "plt.imshow(train_rebanlance_dis_label[index,:-10].reshape([28,28]))"
   ]
  },
  {
   "cell_type": "code",
   "execution_count": 14,
   "metadata": {},
   "outputs": [],
   "source": [
    "np.save('./train_rebanlance_data.npy',train_rebanlance_data)"
   ]
  },
  {
   "cell_type": "code",
   "execution_count": 15,
   "metadata": {},
   "outputs": [],
   "source": [
    "np.save('./train_rebanlance_dis_label.npy',train_rebanlance_dis_label)"
   ]
  },
  {
   "cell_type": "code",
   "execution_count": 16,
   "metadata": {},
   "outputs": [],
   "source": [
    "np.save('./train_unbanlance_data.npy',train_unbanlance_data)"
   ]
  },
  {
   "cell_type": "markdown",
   "metadata": {},
   "source": [
    "### 使用缩放,剪切等数据增强技术形成类别平衡的数据集"
   ]
  },
  {
   "cell_type": "code",
   "execution_count": 17,
   "metadata": {},
   "outputs": [
    {
     "ename": "ValueError",
     "evalue": "could not broadcast input array from shape (5638,794) into shape (563,794)",
     "output_type": "error",
     "traceback": [
      "\u001b[0;31m---------------------------------------------------------------------------\u001b[0m",
      "\u001b[0;31mValueError\u001b[0m                                Traceback (most recent call last)",
      "\u001b[0;32m<ipython-input-17-983370dbb69c>\u001b[0m in \u001b[0;36m<module>\u001b[0;34m\u001b[0m\n\u001b[1;32m      6\u001b[0m \u001b[0;31m# import random\u001b[0m\u001b[0;34m\u001b[0m\u001b[0;34m\u001b[0m\u001b[0;34m\u001b[0m\u001b[0m\n\u001b[1;32m      7\u001b[0m \u001b[0mc_array_inhance\u001b[0m\u001b[0;34m=\u001b[0m\u001b[0mnp\u001b[0m\u001b[0;34m.\u001b[0m\u001b[0mzeros\u001b[0m\u001b[0;34m(\u001b[0m\u001b[0;34m[\u001b[0m\u001b[0morigin_num_c\u001b[0m\u001b[0;34m,\u001b[0m\u001b[0;36m794\u001b[0m\u001b[0;34m]\u001b[0m\u001b[0;34m)\u001b[0m\u001b[0;34m\u001b[0m\u001b[0;34m\u001b[0m\u001b[0m\n\u001b[0;32m----> 8\u001b[0;31m \u001b[0mc_array_inhance\u001b[0m\u001b[0;34m[\u001b[0m\u001b[0;34m:\u001b[0m\u001b[0mremain_num\u001b[0m\u001b[0;34m]\u001b[0m\u001b[0;34m=\u001b[0m\u001b[0mc_array\u001b[0m\u001b[0;34m[\u001b[0m\u001b[0;34m:\u001b[0m\u001b[0;34m]\u001b[0m\u001b[0;34m\u001b[0m\u001b[0;34m\u001b[0m\u001b[0m\n\u001b[0m\u001b[1;32m      9\u001b[0m \u001b[0mx_process1\u001b[0m\u001b[0;34m=\u001b[0m\u001b[0mtf\u001b[0m\u001b[0;34m.\u001b[0m\u001b[0mimage\u001b[0m\u001b[0;34m.\u001b[0m\u001b[0mresize\u001b[0m\u001b[0;34m(\u001b[0m\u001b[0mtf\u001b[0m\u001b[0;34m.\u001b[0m\u001b[0mimage\u001b[0m\u001b[0;34m.\u001b[0m\u001b[0mcentral_crop\u001b[0m\u001b[0;34m(\u001b[0m\u001b[0mx_hat\u001b[0m\u001b[0;34m,\u001b[0m\u001b[0;36m0.8\u001b[0m\u001b[0;34m)\u001b[0m\u001b[0;34m,\u001b[0m\u001b[0;34m[\u001b[0m\u001b[0mzoom_size\u001b[0m\u001b[0;34m,\u001b[0m\u001b[0mzoom_size\u001b[0m\u001b[0;34m]\u001b[0m\u001b[0;34m)\u001b[0m\u001b[0;34m\u001b[0m\u001b[0;34m\u001b[0m\u001b[0m\n\u001b[1;32m     10\u001b[0m \u001b[0;31m# x_process2=tf.image.resize(tf.image.random_crop(x_hat,0.8),[zoom_size,zoom_size])\u001b[0m\u001b[0;34m\u001b[0m\u001b[0;34m\u001b[0m\u001b[0;34m\u001b[0m\u001b[0m\n",
      "\u001b[0;31mValueError\u001b[0m: could not broadcast input array from shape (5638,794) into shape (563,794)"
     ]
    }
   ],
   "source": [
    "#rotation_range : 旋转的角度\n",
    "zoom_size= int(IMAGE_SIZE_MNIST*1.2)\n",
    "# width_shift_range : 水平移动占图像宽度的比例\n",
    "# height_shift_range \n",
    "# from scipy import misc, ndimage\n",
    "# import random\n",
    "c_array_inhance=np.zeros([origin_num_c,794])\n",
    "c_array_inhance[:remain_num]=c_array[:]\n",
    "x_process1=tf.image.resize(tf.image.central_crop(x_hat,0.8),[zoom_size,zoom_size])\n",
    "# x_process2=tf.image.resize(tf.image.random_crop(x_hat,0.8),[zoom_size,zoom_size])\n",
    "# x_sample=tf.placeholder(tf.float32,shape=[28,28])\n",
    "for k in range(remain_num,origin_num_c):\n",
    "    ind=random.choice(range(remain_num))\n",
    "\n",
    "    x_process=tf.image.central_crop(tf.image.resize())\n",
    "\n",
    "    transform=[]\n",
    "    y_label,y_reconstruct = sess.run((z_class,decoded) ,feed_dict={z_in: z_sample.reshape([1,-1]), keep_prob : 1})\n",
    "    np.clip(y_reconstruct,1e-8, 1 - 1e-8,out=y_reconstruct)\n",
    "    c_array_inhance[k]=np.concatenate([y_reconstruct,y_label],axis=1)\n",
    "train_rebanlance_data=np.concatenate([no_c_array,c_array_inhance],axis=0)\n",
    "rb_train_size=train_rebanlance_data.shape[0]"
   ]
  },
  {
   "cell_type": "code",
   "execution_count": null,
   "metadata": {},
   "outputs": [],
   "source": [
    "plt.imshow(p)"
   ]
  }
 ],
 "metadata": {
  "kernelspec": {
   "display_name": "Python 3",
   "language": "python",
   "name": "python3"
  },
  "language_info": {
   "codemirror_mode": {
    "name": "ipython",
    "version": 3
   },
   "file_extension": ".py",
   "mimetype": "text/x-python",
   "name": "python",
   "nbconvert_exporter": "python",
   "pygments_lexer": "ipython3",
   "version": "3.6.7"
  }
 },
 "nbformat": 4,
 "nbformat_minor": 2
}
