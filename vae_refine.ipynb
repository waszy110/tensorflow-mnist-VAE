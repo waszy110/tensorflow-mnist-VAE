{
 "cells": [
  {
   "cell_type": "markdown",
   "metadata": {},
   "source": [
    "导入库"
   ]
  },
  {
   "cell_type": "code",
   "execution_count": 1,
   "metadata": {},
   "outputs": [],
   "source": [
    "import tensorflow as tf\n",
    "import numpy as np\n",
    "import mnist_data\n",
    "import os\n",
    "# import beta_vae as vae\n",
    "import vae\n",
    "import plot_utils\n",
    "import glob\n",
    "import random\n",
    "import matplotlib.pyplot as plt\n",
    "import cv2\n",
    "os.environ[\"TF_CPP_MIN_LOG_LEVEL\"] = \"2\""
   ]
  },
  {
   "cell_type": "markdown",
   "metadata": {},
   "source": [
    "配置参数"
   ]
  },
  {
   "cell_type": "code",
   "execution_count": 2,
   "metadata": {},
   "outputs": [],
   "source": [
    "#gpu\n",
    "os.environ[\"CUDA_VISIBLE_DEVICES\"] = \"1\"\n",
    "#图像尺寸\n",
    "IMAGE_SIZE_MNIST = 28\n",
    "#隐变量维度\n",
    "dim_z=3\n",
    "#alpha classification loss balance\n",
    "alpha=100\n",
    "#隐层节点数\n",
    "n_hidden=500\n",
    "#学习率\n",
    "learn_rate=1e-3\n",
    "#训练轮数\n",
    "n_epochs=50\n",
    "#批量数目\n",
    "batch_size=256\n",
    "#标签样式 one-hot编码\n",
    "one_hot=np.eye(10)\n",
    "#结果保存路径\n",
    "path=os.path.join(os.getcwd(),'result_refine')\n",
    "if not os.path.exists(path):\n",
    "    os.system('mkdir '+path)\n",
    "RESULTS_DIR=path\n",
    "#是否加入噪声，denoise vae\n",
    "ADD_NOISE=False\n",
    "dim_img = IMAGE_SIZE_MNIST**2\n",
    "#beta-vae\n",
    "beta=2.0\n",
    "\n",
    "#画图\n",
    "PRR=True\n",
    "PRR_n_img_x=10\n",
    "PRR_n_img_y=10\n",
    "PRR_resize_factor=1.0\n",
    "PMLR=False\n",
    "PMLR_n_img_x=20\n",
    "PMLR_n_img_y=20\n",
    "PMLR_resize_factor=1.0\n",
    "PMLR_z_range=2.0\n",
    "PMLR_n_samples=5000"
   ]
  },
  {
   "cell_type": "markdown",
   "metadata": {},
   "source": [
    "准备target domain 数据"
   ]
  },
  {
   "cell_type": "code",
   "execution_count": 3,
   "metadata": {},
   "outputs": [
    {
     "name": "stderr",
     "output_type": "stream",
     "text": [
      "WARNING: Logging before flag parsing goes to stderr.\n",
      "W0917 16:47:19.604927 140009940297536 deprecation_wrapper.py:119] From /home/yuemei.zhu/tensorflow-mnist-VAE/mnist_data.py:30: The name tf.gfile.Exists is deprecated. Please use tf.io.gfile.exists instead.\n",
      "\n"
     ]
    },
    {
     "name": "stdout",
     "output_type": "stream",
     "text": [
      "Extracting data/train-images-idx3-ubyte.gz\n",
      "Extracting data/train-labels-idx1-ubyte.gz\n",
      "Extracting data/t10k-images-idx3-ubyte.gz\n",
      "Extracting data/t10k-labels-idx1-ubyte.gz\n"
     ]
    }
   ],
   "source": [
    "train_total_data, train_size, _, _, test_data, test_labels = mnist_data.prepare_MNIST_data()"
   ]
  },
  {
   "cell_type": "code",
   "execution_count": 4,
   "metadata": {},
   "outputs": [
    {
     "name": "stderr",
     "output_type": "stream",
     "text": [
      "W0917 16:47:20.537425 140009940297536 deprecation_wrapper.py:119] From /home/yuemei.zhu/tensorflow-mnist-VAE/vae.py:5: The name tf.variable_scope is deprecated. Please use tf.compat.v1.variable_scope instead.\n",
      "\n",
      "W0917 16:47:21.627839 140009940297536 lazy_loader.py:50] \n",
      "The TensorFlow contrib module will not be included in TensorFlow 2.0.\n",
      "For more information, please see:\n",
      "  * https://github.com/tensorflow/community/blob/master/rfcs/20180907-contrib-sunset.md\n",
      "  * https://github.com/tensorflow/addons\n",
      "  * https://github.com/tensorflow/io (for I/O related ops)\n",
      "If you depend on functionality not listed there, please file an issue.\n",
      "\n",
      "W0917 16:47:21.629189 140009940297536 deprecation_wrapper.py:119] From /home/yuemei.zhu/tensorflow-mnist-VAE/vae.py:11: The name tf.get_variable is deprecated. Please use tf.compat.v1.get_variable instead.\n",
      "\n",
      "W0917 16:47:21.644551 140009940297536 deprecation.py:506] From /home/yuemei.zhu/tensorflow-mnist-VAE/vae.py:15: calling dropout (from tensorflow.python.ops.nn_ops) with keep_prob is deprecated and will be removed in a future version.\n",
      "Instructions for updating:\n",
      "Please use `rate` instead of `keep_prob`. Rate should be set to `rate = 1 - keep_prob`.\n",
      "W0917 16:47:21.697276 140009940297536 deprecation_wrapper.py:119] From /home/yuemei.zhu/tensorflow-mnist-VAE/vae.py:74: The name tf.random_normal is deprecated. Please use tf.random.normal instead.\n",
      "\n",
      "W0917 16:47:21.762519 140009940297536 deprecation_wrapper.py:119] From /home/yuemei.zhu/tensorflow-mnist-VAE/vae.py:81: The name tf.log is deprecated. Please use tf.math.log instead.\n",
      "\n",
      "W0917 16:47:21.786100 140009940297536 deprecation.py:506] From /home/yuemei.zhu/.local/lib/python3.6/site-packages/tensorflow/python/ops/init_ops.py:1251: calling VarianceScaling.__init__ (from tensorflow.python.ops.init_ops) with dtype is deprecated and will be removed in a future version.\n",
      "Instructions for updating:\n",
      "Call initializer instance with the dtype argument instead of passing it to the constructor\n",
      "W0917 16:47:22.272861 140009940297536 deprecation.py:323] From /home/yuemei.zhu/.local/lib/python3.6/site-packages/tensorflow/python/ops/math_grad.py:1250: add_dispatch_support.<locals>.wrapper (from tensorflow.python.ops.array_ops) is deprecated and will be removed in a future version.\n",
      "Instructions for updating:\n",
      "Use tf.where in 2.0, which has the same broadcast rule as np.where\n"
     ]
    }
   ],
   "source": [
    "\n",
    "\"\"\" build graph \"\"\"\n",
    "# input placeholders\n",
    "# In denoising-autoencoder, x_hat == x + noise, otherwise x_hat == x\n",
    "x_hat = tf.placeholder(tf.float32, shape=[None, dim_img], name='input_img')\n",
    "x = tf.placeholder(tf.float32, shape=[None, dim_img], name='target_img')\n",
    "x_label=tf.placeholder(tf.float32, shape=[None, 10], name='img_label')\n",
    "\n",
    "# dropout\n",
    "keep_prob = tf.placeholder(tf.float32, name='keep_prob')\n",
    "\n",
    "# input for PMLR\n",
    "z_in = tf.placeholder(tf.float32, shape=[None, dim_z], name='latent_variable')\n",
    "\n",
    "#vae\n",
    "y, z, cost, neg_marginal_likelihood, KL_divergence,SigMa = vae.autoencoder(x_hat, x, dim_img, dim_z, n_hidden, keep_prob)\n",
    "z_tmp=tf.layers.Dense(10)(z)\n",
    "z_class=tf.nn.softmax(z_tmp)\n",
    "# print(z_cl)\n",
    "classifation_loss=tf.reduce_mean(x_label * tf.log(z_class) + (1 - x_label) * tf.log(1 - z_class))\n",
    "# network architecture beta vae\n",
    "# y, z, loss, neg_marginal_likelihood, KL_divergence = vae.autoencoder(x_hat, x, dim_img, dim_z, n_hidden, keep_prob,beta)\n",
    "loss=cost-alpha*classifation_loss\n",
    "# optimization\n",
    "train_op = tf.train.AdamOptimizer(learn_rate).minimize(loss)\n",
    "\n",
    "decoded = vae.decoder(z_in, dim_img, n_hidden)"
   ]
  },
  {
   "cell_type": "code",
   "execution_count": 5,
   "metadata": {},
   "outputs": [
    {
     "name": "stdout",
     "output_type": "stream",
     "text": [
      "[0.24389121 0.2295511  0.19990465 0.21370816 0.22615486]\n",
      "[0.65173423 0.5515676  0.74338776 0.55074334 0.4591744 ]\n",
      "[0.08678017 0.08089717 0.08385824 0.05827233 0.09306353]\n",
      "epoch 0: L_tot 188.71 L_likelihood 154.46 L_divergence 11.62 classifation_loss -0.23 \n",
      "[0.19057399 0.16513045 0.21713415 0.08687144 0.21401463]\n",
      "[0.41559073 0.4371177  0.62236595 0.41157305 0.46851745]\n",
      "[0.04748521 0.04416225 0.06655534 0.00178623 0.08650087]\n",
      "epoch 1: L_tot 177.28 L_likelihood 143.83 L_divergence 15.15 classifation_loss -0.18 \n",
      "[0.21103993 0.19454661 0.21018416 0.18064255 0.20145722]\n",
      "[0.5550377  0.5670953  0.51371175 0.42273846 0.45267105]\n",
      "[0.06982551 0.05675554 0.08155619 0.06384385 0.08844212]\n",
      "epoch 2: L_tot 160.00 L_likelihood 134.19 L_divergence 12.97 classifation_loss -0.13 \n",
      "[0.1816442  0.1607826  0.2072752  0.18131675 0.15767555]\n",
      "[0.4124089  0.34127307 0.42631817 0.43067273 0.40505412]\n",
      "[0.03918408 0.07174301 0.0668687  0.06205914 0.05314751]\n",
      "epoch 3: L_tot 157.28 L_likelihood 132.84 L_divergence 14.38 classifation_loss -0.10 \n",
      "[0.20167159 0.1654805  0.18005441 0.1683493  0.17932382]\n",
      "[0.42471537 0.3660657  0.36785716 0.4392736  0.3459442 ]\n",
      "[0.06960247 0.07418197 0.06957657 0.06594317 0.07977939]\n",
      "epoch 4: L_tot 145.31 L_likelihood 123.62 L_divergence 13.47 classifation_loss -0.08 \n",
      "[0.18197463 0.15803114 0.20101938 0.15670191 0.18623634]\n",
      "[0.3309948  0.32956156 0.3662359  0.34196034 0.3197489 ]\n",
      "[0.09591194 0.07093848 0.09341224 0.07196379 0.08283089]\n",
      "epoch 5: L_tot 150.37 L_likelihood 128.67 L_divergence 13.13 classifation_loss -0.09 \n",
      "[0.16817896 0.1586375  0.16416818 0.15823884 0.15417731]\n",
      "[0.31232965 0.3129934  0.3492249  0.4174924  0.31022176]\n",
      "[0.07334273 0.07817121 0.06152481 0.05990539 0.08190058]\n",
      "epoch 6: L_tot 146.39 L_likelihood 125.12 L_divergence 13.36 classifation_loss -0.08 \n",
      "[0.1583513  0.15061536 0.15556382 0.1548824  0.14301956]\n",
      "[0.28208894 0.2863584  0.26120064 0.31880832 0.27984798]\n",
      "[0.07049875 0.08185555 0.07604132 0.0683737  0.07611766]\n",
      "epoch 7: L_tot 144.24 L_likelihood 124.08 L_divergence 13.27 classifation_loss -0.07 \n",
      "[0.17029539 0.15502217 0.14816442 0.13933297 0.15319215]\n",
      "[0.32743037 0.3642275  0.34736437 0.26960233 0.300206  ]\n",
      "[0.11086968 0.07135026 0.06204267 0.06962149 0.0891723 ]\n",
      "epoch 8: L_tot 142.96 L_likelihood 123.63 L_divergence 12.94 classifation_loss -0.06 \n",
      "[0.15447532 0.14506215 0.14511366 0.13624944 0.14706351]\n",
      "[0.31441453 0.25079107 0.27805138 0.26939946 0.2953192 ]\n",
      "[0.07902206 0.0756088  0.0590198  0.06739261 0.08663829]\n",
      "epoch 9: L_tot 137.02 L_likelihood 118.67 L_divergence 13.30 classifation_loss -0.05 \n",
      "[0.16546392 0.13562481 0.15803486 0.14210875 0.1422942 ]\n",
      "[0.32833558 0.22640765 0.34522572 0.24088407 0.2633018 ]\n",
      "[0.10454283 0.06638769 0.07303139 0.06518231 0.0824349 ]\n",
      "epoch 10: L_tot 138.44 L_likelihood 119.65 L_divergence 12.87 classifation_loss -0.06 \n",
      "[0.15709193 0.15734251 0.15661542 0.14522083 0.14890015]\n",
      "[0.32847586 0.3379483  0.27892077 0.25328663 0.27419755]\n",
      "[0.09139761 0.08728708 0.09064608 0.0839947  0.07230851]\n",
      "epoch 11: L_tot 140.61 L_likelihood 122.20 L_divergence 12.85 classifation_loss -0.06 \n",
      "[0.15200175 0.15551825 0.1452232  0.1484202  0.16076827]\n",
      "[0.31133884 0.29134068 0.27617818 0.3000334  0.40365624]\n",
      "[0.08111418 0.09064379 0.08683766 0.08032881 0.07332079]\n",
      "epoch 12: L_tot 138.71 L_likelihood 121.48 L_divergence 12.50 classifation_loss -0.05 \n",
      "[0.15104637 0.13376965 0.13525623 0.1277132  0.14399844]\n",
      "[0.29226    0.25298122 0.2819226  0.20932768 0.30752578]\n",
      "[0.08972443 0.07533111 0.07756368 0.07503466 0.07038698]\n",
      "epoch 13: L_tot 135.94 L_likelihood 118.54 L_divergence 13.08 classifation_loss -0.04 \n",
      "[0.14781035 0.13558953 0.12886903 0.12361502 0.14338125]\n",
      "[0.3273711  0.26523945 0.2643297  0.26200268 0.28588387]\n",
      "[0.07694916 0.0770293  0.06118432 0.06621109 0.08443566]\n",
      "epoch 14: L_tot 131.00 L_likelihood 113.62 L_divergence 13.11 classifation_loss -0.04 \n",
      "[0.14734837 0.13580859 0.13891242 0.12912916 0.13067427]\n",
      "[0.30656722 0.22982347 0.24923311 0.24962689 0.2555509 ]\n",
      "[0.08075852 0.06707462 0.07039809 0.06128041 0.07634863]\n",
      "epoch 15: L_tot 135.15 L_likelihood 118.19 L_divergence 12.93 classifation_loss -0.04 \n",
      "[0.1448391  0.13354787 0.1433488  0.12608525 0.136718  ]\n",
      "[0.38782695 0.2603175  0.3316114  0.25199714 0.29410085]\n",
      "[0.07349824 0.07017741 0.06794965 0.06617761 0.06408841]\n",
      "epoch 16: L_tot 132.28 L_likelihood 114.88 L_divergence 13.18 classifation_loss -0.04 \n",
      "[0.15817657 0.14257903 0.13528    0.1161397  0.13278636]\n",
      "[0.4127089  0.27869725 0.25763652 0.21738105 0.27467185]\n",
      "[0.07837338 0.06719723 0.06799443 0.06655066 0.06692456]\n",
      "epoch 17: L_tot 135.81 L_likelihood 118.14 L_divergence 12.69 classifation_loss -0.05 \n",
      "[0.14232485 0.13568342 0.13653478 0.13565254 0.12418196]\n",
      "[0.27261534 0.2564897  0.26917782 0.24179639 0.30986497]\n",
      "[0.06564023 0.07015352 0.06815791 0.07216921 0.0648539 ]\n",
      "epoch 18: L_tot 130.44 L_likelihood 113.51 L_divergence 12.82 classifation_loss -0.04 \n",
      "[0.13969094 0.13664389 0.13352896 0.12375854 0.12546435]\n",
      "[0.3212999  0.2536457  0.2643806  0.2784836  0.31980968]\n",
      "[0.07566749 0.07660273 0.06989565 0.07159554 0.06074286]\n",
      "epoch 19: L_tot 130.38 L_likelihood 114.38 L_divergence 13.03 classifation_loss -0.03 \n",
      "[0.1398946  0.1259372  0.1280842  0.12694663 0.12697046]\n",
      "[0.4088187  0.20988005 0.25792032 0.22686249 0.23742579]\n",
      "[0.07531707 0.05805615 0.06678485 0.07282004 0.0603021 ]\n",
      "epoch 20: L_tot 129.70 L_likelihood 113.77 L_divergence 12.79 classifation_loss -0.03 \n",
      "[0.14486834 0.1295887  0.12406399 0.11761331 0.13295628]\n",
      "[0.2876113  0.23722363 0.2489457  0.2013767  0.2626788 ]\n",
      "[0.07662824 0.0657906  0.07063738 0.05869925 0.06828307]\n",
      "epoch 21: L_tot 126.93 L_likelihood 111.76 L_divergence 12.53 classifation_loss -0.03 \n",
      "[0.13160974 0.12074336 0.12542316 0.1193528  0.13194996]\n",
      "[0.29633123 0.24272236 0.27534044 0.24964175 0.23435374]\n",
      "[0.07345925 0.06575153 0.06148648 0.06256027 0.06801236]\n",
      "epoch 22: L_tot 129.22 L_likelihood 113.93 L_divergence 12.83 classifation_loss -0.02 \n",
      "[0.13498169 0.12753661 0.12985533 0.11867679 0.12672308]\n",
      "[0.28821325 0.24624619 0.22641791 0.19564608 0.24905553]\n",
      "[0.08155465 0.07059228 0.07381486 0.06209936 0.06296667]\n",
      "epoch 23: L_tot 132.63 L_likelihood 116.28 L_divergence 12.73 classifation_loss -0.04 \n",
      "[0.13205883 0.12396102 0.12933044 0.11955519 0.12762854]\n",
      "[0.2770168  0.22031826 0.24897385 0.1994998  0.24393803]\n",
      "[0.06692924 0.05466482 0.05881952 0.06012835 0.07027876]\n",
      "epoch 24: L_tot 132.44 L_likelihood 116.43 L_divergence 12.97 classifation_loss -0.03 \n",
      "[0.14033756 0.12025023 0.12448022 0.11996772 0.13279018]\n",
      "[0.315283   0.21478845 0.25791213 0.21600913 0.28620332]\n",
      "[0.08011637 0.06415103 0.06538177 0.05755693 0.07098123]\n",
      "epoch 25: L_tot 133.52 L_likelihood 117.80 L_divergence 12.66 classifation_loss -0.03 \n",
      "[0.15909392 0.12448587 0.11758218 0.12802951 0.13379137]\n",
      "[0.36877722 0.24342902 0.24304524 0.23479582 0.23629132]\n",
      "[0.08537193 0.07132784 0.05540292 0.06801414 0.07407404]\n",
      "epoch 26: L_tot 130.08 L_likelihood 114.35 L_divergence 12.43 classifation_loss -0.03 \n",
      "[0.13774094 0.11004759 0.12544374 0.1289177  0.11276705]\n",
      "[0.3144282  0.20616038 0.2778253  0.28121358 0.22901347]\n",
      "[0.07529993 0.05596522 0.06523871 0.07446318 0.05574494]\n",
      "epoch 27: L_tot 129.91 L_likelihood 114.11 L_divergence 12.62 classifation_loss -0.03 \n",
      "[0.13536404 0.12990324 0.12058026 0.12418047 0.12604569]\n",
      "[0.276889   0.2076312  0.26806352 0.20695955 0.23384246]\n",
      "[0.07430238 0.07667571 0.05945067 0.07283401 0.06958124]\n",
      "epoch 28: L_tot 127.29 L_likelihood 111.80 L_divergence 12.62 classifation_loss -0.03 \n",
      "[0.15864044 0.12237742 0.12126103 0.11674426 0.13036521]\n",
      "[0.3359387  0.22263525 0.27994153 0.19491021 0.31503117]\n",
      "[0.09374226 0.05657756 0.05664954 0.07490316 0.05830258]\n",
      "epoch 29: L_tot 124.01 L_likelihood 108.95 L_divergence 12.56 classifation_loss -0.02 \n",
      "[0.14400926 0.11206774 0.11732018 0.12165536 0.12049739]\n",
      "[0.29442337 0.17982432 0.23066369 0.2799406  0.2426454 ]\n",
      "[0.07710887 0.06337404 0.05863113 0.06429714 0.07667439]\n",
      "epoch 30: L_tot 126.95 L_likelihood 111.18 L_divergence 12.67 classifation_loss -0.03 \n",
      "[0.12816022 0.11728074 0.12093405 0.10789642 0.12001587]\n",
      "[0.35613528 0.1839348  0.25975537 0.23961863 0.30110303]\n",
      "[0.06425935 0.06618097 0.05846293 0.06155003 0.05774857]\n",
      "epoch 31: L_tot 127.81 L_likelihood 111.74 L_divergence 12.88 classifation_loss -0.03 \n"
     ]
    },
    {
     "name": "stdout",
     "output_type": "stream",
     "text": [
      "[0.13615099 0.11708289 0.12221367 0.12181102 0.11985455]\n",
      "[0.30691317 0.20870091 0.2942093  0.23906247 0.27946568]\n",
      "[0.07426631 0.06381679 0.06972812 0.06244817 0.05106633]\n",
      "epoch 32: L_tot 125.60 L_likelihood 110.69 L_divergence 12.81 classifation_loss -0.02 \n",
      "[0.12742858 0.11295863 0.12549913 0.10710853 0.11977017]\n",
      "[0.2882758  0.1879504  0.2691209  0.18063934 0.24444517]\n",
      "[0.07992875 0.05247323 0.06832905 0.06352227 0.06738748]\n",
      "epoch 33: L_tot 126.80 L_likelihood 110.09 L_divergence 12.98 classifation_loss -0.04 \n",
      "[0.12962332 0.1061985  0.11874432 0.11834415 0.12593433]\n",
      "[0.3367123  0.19960457 0.2519319  0.20270284 0.26631472]\n",
      "[0.07725774 0.0502426  0.05538375 0.073396   0.07341251]\n",
      "epoch 34: L_tot 128.55 L_likelihood 113.43 L_divergence 12.67 classifation_loss -0.02 \n",
      "[0.13119744 0.11372665 0.11556414 0.12527202 0.1174108 ]\n",
      "[0.33816397 0.25245085 0.2421407  0.21618652 0.25610405]\n",
      "[0.05499445 0.05498948 0.05391464 0.07954779 0.06146024]\n",
      "epoch 35: L_tot 124.59 L_likelihood 110.14 L_divergence 12.76 classifation_loss -0.02 \n",
      "[0.13278915 0.12009254 0.11561045 0.10806373 0.1195339 ]\n",
      "[0.29455888 0.20339242 0.26879922 0.2052369  0.27933332]\n",
      "[0.07180271 0.0733137  0.06251951 0.06052688 0.06681184]\n",
      "epoch 36: L_tot 129.76 L_likelihood 113.87 L_divergence 12.57 classifation_loss -0.03 \n",
      "[0.13677125 0.11100491 0.10784427 0.12049857 0.11284943]\n",
      "[0.2749287  0.20107326 0.23028207 0.25443    0.3209788 ]\n",
      "[0.08256761 0.05874871 0.06075744 0.06422649 0.05266653]\n",
      "epoch 37: L_tot 128.31 L_likelihood 112.67 L_divergence 13.01 classifation_loss -0.03 \n",
      "[0.13321221 0.10217176 0.12264062 0.11264884 0.11145251]\n",
      "[0.3222734  0.17008983 0.3160208  0.18119563 0.26004282]\n",
      "[0.07392426 0.05560885 0.05339707 0.07054163 0.06087029]\n",
      "epoch 38: L_tot 127.51 L_likelihood 113.04 L_divergence 12.73 classifation_loss -0.02 \n",
      "[0.12560047 0.10722163 0.11870566 0.11570452 0.10940111]\n",
      "[0.3295259  0.20039913 0.24667747 0.19802323 0.24518113]\n",
      "[0.06638847 0.05410845 0.05841694 0.05302316 0.05901778]\n",
      "epoch 39: L_tot 124.38 L_likelihood 109.48 L_divergence 12.95 classifation_loss -0.02 \n",
      "[0.13088875 0.10704331 0.11474394 0.12106932 0.1124861 ]\n",
      "[0.31678712 0.19689983 0.25747654 0.20389022 0.28117433]\n",
      "[0.06728908 0.06153669 0.06064907 0.07358298 0.04651458]\n",
      "epoch 40: L_tot 123.66 L_likelihood 108.91 L_divergence 12.80 classifation_loss -0.02 \n",
      "[0.13361198 0.11504705 0.0996745  0.12284901 0.11540087]\n",
      "[0.33382362 0.19908461 0.22053896 0.20200205 0.26303443]\n",
      "[0.07409264 0.06135654 0.05115242 0.07165369 0.05906633]\n",
      "epoch 41: L_tot 125.98 L_likelihood 110.62 L_divergence 12.58 classifation_loss -0.03 \n",
      "[0.12358586 0.11128911 0.1088278  0.11215633 0.11175492]\n",
      "[0.33051884 0.21314494 0.2502396  0.24585715 0.26363695]\n",
      "[0.06590355 0.05494649 0.05397868 0.06129375 0.04921609]\n",
      "epoch 42: L_tot 125.93 L_likelihood 111.03 L_divergence 12.69 classifation_loss -0.02 \n",
      "[0.1329158  0.11237872 0.12494288 0.10947468 0.11886302]\n",
      "[0.2517829  0.17774583 0.33178696 0.18888001 0.24120153]\n",
      "[0.07128432 0.06256004 0.05987238 0.0629238  0.06279182]\n",
      "epoch 43: L_tot 123.00 L_likelihood 109.33 L_divergence 12.49 classifation_loss -0.01 \n",
      "[0.125559   0.10983161 0.11447068 0.11332818 0.11854679]\n",
      "[0.24653253 0.19788729 0.26465857 0.202832   0.31561917]\n",
      "[0.05518421 0.06658668 0.05559441 0.06019121 0.05694508]\n",
      "epoch 44: L_tot 120.19 L_likelihood 105.18 L_divergence 12.75 classifation_loss -0.02 \n",
      "[0.1199134  0.10751072 0.11501197 0.11239094 0.12821849]\n",
      "[0.25806355 0.22842927 0.27663752 0.20330176 0.21375257]\n",
      "[0.06565977 0.05441885 0.05816886 0.06301671 0.07803472]\n",
      "epoch 45: L_tot 127.52 L_likelihood 112.32 L_divergence 12.63 classifation_loss -0.03 \n",
      "[0.11758903 0.10828785 0.11174281 0.11306433 0.11549037]\n",
      "[0.2633181  0.17564529 0.27036995 0.21605255 0.25532183]\n",
      "[0.05853051 0.04674009 0.04766208 0.06151696 0.05642288]\n",
      "epoch 46: L_tot 122.26 L_likelihood 107.79 L_divergence 12.83 classifation_loss -0.02 \n",
      "[0.12172784 0.10731268 0.10714757 0.11092844 0.11567894]\n",
      "[0.30227757 0.22997788 0.26686525 0.1971706  0.2620881 ]\n",
      "[0.06581303 0.04888818 0.05671206 0.06700873 0.05908251]\n",
      "epoch 47: L_tot 127.42 L_likelihood 112.81 L_divergence 12.69 classifation_loss -0.02 \n",
      "[0.13819134 0.11097444 0.11075832 0.11685581 0.10962196]\n",
      "[0.27209294 0.19739148 0.252787   0.19788474 0.2468685 ]\n",
      "[0.07740339 0.06211505 0.0635414  0.05697514 0.05709169]\n",
      "epoch 48: L_tot 127.46 L_likelihood 112.60 L_divergence 12.83 classifation_loss -0.02 \n",
      "[0.13314795 0.10844047 0.11399184 0.09967434 0.11734378]\n",
      "[0.34065843 0.18846986 0.28216267 0.16044222 0.26384747]\n",
      "[0.05004317 0.06025373 0.04593396 0.05942956 0.05725932]\n",
      "epoch 49: L_tot 123.02 L_likelihood 108.92 L_divergence 12.73 classifation_loss -0.01 \n",
      "[0.12391367 0.09918222 0.11054287 0.11106905 0.1141274 ]\n",
      "[0.30687276 0.18883125 0.2958795  0.18589249 0.22928676]\n",
      "[0.06024868 0.04726544 0.06535508 0.06030154 0.0661543 ]\n",
      "epoch 50: L_tot 128.66 L_likelihood 113.87 L_divergence 12.76 classifation_loss -0.02 \n",
      "[nan nan nan nan nan]\n",
      "[nan nan nan nan nan]\n",
      "[nan nan nan nan nan]\n",
      "epoch 51: L_tot nan L_likelihood nan L_divergence nan classifation_loss nan \n",
      "[nan nan nan nan nan]\n",
      "[nan nan nan nan nan]\n",
      "[nan nan nan nan nan]\n",
      "epoch 52: L_tot nan L_likelihood nan L_divergence nan classifation_loss nan \n",
      "[nan nan nan nan nan]\n",
      "[nan nan nan nan nan]\n",
      "[nan nan nan nan nan]\n",
      "epoch 53: L_tot nan L_likelihood nan L_divergence nan classifation_loss nan \n",
      "[nan nan nan nan nan]\n",
      "[nan nan nan nan nan]\n",
      "[nan nan nan nan nan]\n",
      "epoch 54: L_tot nan L_likelihood nan L_divergence nan classifation_loss nan \n",
      "[nan nan nan nan nan]\n",
      "[nan nan nan nan nan]\n",
      "[nan nan nan nan nan]\n",
      "epoch 55: L_tot nan L_likelihood nan L_divergence nan classifation_loss nan \n",
      "[nan nan nan nan nan]\n",
      "[nan nan nan nan nan]\n",
      "[nan nan nan nan nan]\n",
      "epoch 56: L_tot nan L_likelihood nan L_divergence nan classifation_loss nan \n",
      "[nan nan nan nan nan]\n",
      "[nan nan nan nan nan]\n",
      "[nan nan nan nan nan]\n",
      "epoch 57: L_tot nan L_likelihood nan L_divergence nan classifation_loss nan \n",
      "[nan nan nan nan nan]\n",
      "[nan nan nan nan nan]\n",
      "[nan nan nan nan nan]\n",
      "epoch 58: L_tot nan L_likelihood nan L_divergence nan classifation_loss nan \n",
      "[nan nan nan nan nan]\n",
      "[nan nan nan nan nan]\n",
      "[nan nan nan nan nan]\n",
      "epoch 59: L_tot nan L_likelihood nan L_divergence nan classifation_loss nan \n",
      "[nan nan nan nan nan]\n",
      "[nan nan nan nan nan]\n",
      "[nan nan nan nan nan]\n",
      "epoch 60: L_tot nan L_likelihood nan L_divergence nan classifation_loss nan \n",
      "[nan nan nan nan nan]\n",
      "[nan nan nan nan nan]\n",
      "[nan nan nan nan nan]\n",
      "epoch 61: L_tot nan L_likelihood nan L_divergence nan classifation_loss nan \n",
      "[nan nan nan nan nan]\n",
      "[nan nan nan nan nan]\n",
      "[nan nan nan nan nan]\n",
      "epoch 62: L_tot nan L_likelihood nan L_divergence nan classifation_loss nan \n",
      "[nan nan nan nan nan]\n",
      "[nan nan nan nan nan]\n",
      "[nan nan nan nan nan]\n",
      "epoch 63: L_tot nan L_likelihood nan L_divergence nan classifation_loss nan \n",
      "[nan nan nan nan nan]\n",
      "[nan nan nan nan nan]\n",
      "[nan nan nan nan nan]\n",
      "epoch 64: L_tot nan L_likelihood nan L_divergence nan classifation_loss nan \n",
      "[nan nan nan nan nan]\n",
      "[nan nan nan nan nan]\n",
      "[nan nan nan nan nan]\n",
      "epoch 65: L_tot nan L_likelihood nan L_divergence nan classifation_loss nan \n",
      "[nan nan nan nan nan]\n",
      "[nan nan nan nan nan]\n",
      "[nan nan nan nan nan]\n",
      "epoch 66: L_tot nan L_likelihood nan L_divergence nan classifation_loss nan \n",
      "[nan nan nan nan nan]\n",
      "[nan nan nan nan nan]\n",
      "[nan nan nan nan nan]\n",
      "epoch 67: L_tot nan L_likelihood nan L_divergence nan classifation_loss nan \n",
      "[nan nan nan nan nan]\n",
      "[nan nan nan nan nan]\n",
      "[nan nan nan nan nan]\n",
      "epoch 68: L_tot nan L_likelihood nan L_divergence nan classifation_loss nan \n",
      "[nan nan nan nan nan]\n",
      "[nan nan nan nan nan]\n",
      "[nan nan nan nan nan]\n",
      "epoch 69: L_tot nan L_likelihood nan L_divergence nan classifation_loss nan \n",
      "[nan nan nan nan nan]\n",
      "[nan nan nan nan nan]\n",
      "[nan nan nan nan nan]\n",
      "epoch 70: L_tot nan L_likelihood nan L_divergence nan classifation_loss nan \n",
      "[nan nan nan nan nan]\n",
      "[nan nan nan nan nan]\n",
      "[nan nan nan nan nan]\n",
      "epoch 71: L_tot nan L_likelihood nan L_divergence nan classifation_loss nan \n",
      "[nan nan nan nan nan]\n",
      "[nan nan nan nan nan]\n",
      "[nan nan nan nan nan]\n",
      "epoch 72: L_tot nan L_likelihood nan L_divergence nan classifation_loss nan \n",
      "[nan nan nan nan nan]\n",
      "[nan nan nan nan nan]\n",
      "[nan nan nan nan nan]\n",
      "epoch 73: L_tot nan L_likelihood nan L_divergence nan classifation_loss nan \n",
      "[nan nan nan nan nan]\n",
      "[nan nan nan nan nan]\n",
      "[nan nan nan nan nan]\n",
      "epoch 74: L_tot nan L_likelihood nan L_divergence nan classifation_loss nan \n"
     ]
    },
    {
     "name": "stdout",
     "output_type": "stream",
     "text": [
      "[nan nan nan nan nan]\n",
      "[nan nan nan nan nan]\n",
      "[nan nan nan nan nan]\n",
      "epoch 75: L_tot nan L_likelihood nan L_divergence nan classifation_loss nan \n",
      "[nan nan nan nan nan]\n",
      "[nan nan nan nan nan]\n",
      "[nan nan nan nan nan]\n",
      "epoch 76: L_tot nan L_likelihood nan L_divergence nan classifation_loss nan \n",
      "[nan nan nan nan nan]\n",
      "[nan nan nan nan nan]\n",
      "[nan nan nan nan nan]\n",
      "epoch 77: L_tot nan L_likelihood nan L_divergence nan classifation_loss nan \n",
      "[nan nan nan nan nan]\n",
      "[nan nan nan nan nan]\n",
      "[nan nan nan nan nan]\n",
      "epoch 78: L_tot nan L_likelihood nan L_divergence nan classifation_loss nan \n",
      "[nan nan nan nan nan]\n",
      "[nan nan nan nan nan]\n",
      "[nan nan nan nan nan]\n",
      "epoch 79: L_tot nan L_likelihood nan L_divergence nan classifation_loss nan \n",
      "[nan nan nan nan nan]\n",
      "[nan nan nan nan nan]\n",
      "[nan nan nan nan nan]\n",
      "epoch 80: L_tot nan L_likelihood nan L_divergence nan classifation_loss nan \n",
      "[nan nan nan nan nan]\n",
      "[nan nan nan nan nan]\n",
      "[nan nan nan nan nan]\n",
      "epoch 81: L_tot nan L_likelihood nan L_divergence nan classifation_loss nan \n",
      "[nan nan nan nan nan]\n",
      "[nan nan nan nan nan]\n",
      "[nan nan nan nan nan]\n",
      "epoch 82: L_tot nan L_likelihood nan L_divergence nan classifation_loss nan \n",
      "[nan nan nan nan nan]\n",
      "[nan nan nan nan nan]\n",
      "[nan nan nan nan nan]\n",
      "epoch 83: L_tot nan L_likelihood nan L_divergence nan classifation_loss nan \n",
      "[nan nan nan nan nan]\n",
      "[nan nan nan nan nan]\n",
      "[nan nan nan nan nan]\n",
      "epoch 84: L_tot nan L_likelihood nan L_divergence nan classifation_loss nan \n",
      "[nan nan nan nan nan]\n",
      "[nan nan nan nan nan]\n",
      "[nan nan nan nan nan]\n",
      "epoch 85: L_tot nan L_likelihood nan L_divergence nan classifation_loss nan \n",
      "[nan nan nan nan nan]\n",
      "[nan nan nan nan nan]\n",
      "[nan nan nan nan nan]\n",
      "epoch 86: L_tot nan L_likelihood nan L_divergence nan classifation_loss nan \n",
      "[nan nan nan nan nan]\n",
      "[nan nan nan nan nan]\n",
      "[nan nan nan nan nan]\n",
      "epoch 87: L_tot nan L_likelihood nan L_divergence nan classifation_loss nan \n",
      "[nan nan nan nan nan]\n",
      "[nan nan nan nan nan]\n",
      "[nan nan nan nan nan]\n",
      "epoch 88: L_tot nan L_likelihood nan L_divergence nan classifation_loss nan \n",
      "[nan nan nan nan nan]\n",
      "[nan nan nan nan nan]\n",
      "[nan nan nan nan nan]\n",
      "epoch 89: L_tot nan L_likelihood nan L_divergence nan classifation_loss nan \n",
      "[nan nan nan nan nan]\n",
      "[nan nan nan nan nan]\n",
      "[nan nan nan nan nan]\n",
      "epoch 90: L_tot nan L_likelihood nan L_divergence nan classifation_loss nan \n",
      "[nan nan nan nan nan]\n",
      "[nan nan nan nan nan]\n",
      "[nan nan nan nan nan]\n",
      "epoch 91: L_tot nan L_likelihood nan L_divergence nan classifation_loss nan \n",
      "[nan nan nan nan nan]\n",
      "[nan nan nan nan nan]\n",
      "[nan nan nan nan nan]\n",
      "epoch 92: L_tot nan L_likelihood nan L_divergence nan classifation_loss nan \n",
      "[nan nan nan nan nan]\n",
      "[nan nan nan nan nan]\n",
      "[nan nan nan nan nan]\n",
      "epoch 93: L_tot nan L_likelihood nan L_divergence nan classifation_loss nan \n",
      "[nan nan nan nan nan]\n",
      "[nan nan nan nan nan]\n",
      "[nan nan nan nan nan]\n",
      "epoch 94: L_tot nan L_likelihood nan L_divergence nan classifation_loss nan \n",
      "[nan nan nan nan nan]\n",
      "[nan nan nan nan nan]\n",
      "[nan nan nan nan nan]\n",
      "epoch 95: L_tot nan L_likelihood nan L_divergence nan classifation_loss nan \n",
      "[nan nan nan nan nan]\n",
      "[nan nan nan nan nan]\n",
      "[nan nan nan nan nan]\n",
      "epoch 96: L_tot nan L_likelihood nan L_divergence nan classifation_loss nan \n",
      "[nan nan nan nan nan]\n",
      "[nan nan nan nan nan]\n",
      "[nan nan nan nan nan]\n",
      "epoch 97: L_tot nan L_likelihood nan L_divergence nan classifation_loss nan \n",
      "[nan nan nan nan nan]\n",
      "[nan nan nan nan nan]\n",
      "[nan nan nan nan nan]\n",
      "epoch 98: L_tot nan L_likelihood nan L_divergence nan classifation_loss nan \n",
      "[nan nan nan nan nan]\n",
      "[nan nan nan nan nan]\n",
      "[nan nan nan nan nan]\n",
      "epoch 99: L_tot nan L_likelihood nan L_divergence nan classifation_loss nan \n"
     ]
    }
   ],
   "source": [
    "np.random.seed(100)\n",
    "n_samples=train_size\n",
    "\n",
    "\"\"\" training \"\"\"\n",
    "\n",
    "# Plot for reproduce performance\n",
    "if PRR:\n",
    "    PRR = plot_utils.Plot_Reproduce_Performance(RESULTS_DIR, PRR_n_img_x, PRR_n_img_y, IMAGE_SIZE_MNIST, IMAGE_SIZE_MNIST, PRR_resize_factor)\n",
    "\n",
    "    x_PRR = test_data[0:PRR.n_tot_imgs, :]\n",
    "\n",
    "    x_PRR_img = x_PRR.reshape(PRR.n_tot_imgs, IMAGE_SIZE_MNIST, IMAGE_SIZE_MNIST)\n",
    "    PRR.save_images(x_PRR_img, name='input.jpg')\n",
    "\n",
    "    if ADD_NOISE:\n",
    "        x_PRR = x_PRR * np.random.randint(2, size=x_PRR.shape)\n",
    "        x_PRR += np.random.randint(2, size=x_PRR.shape)\n",
    "\n",
    "        x_PRR_img = x_PRR.reshape(PRR.n_tot_imgs, IMAGE_SIZE_MNIST, IMAGE_SIZE_MNIST)\n",
    "        PRR.save_images(x_PRR_img, name='input_noise.jpg')\n",
    "\n",
    "# Plot for manifold learning result\n",
    "if PMLR and dim_z == 2:\n",
    "\n",
    "    PMLR = plot_utils.Plot_Manifold_Learning_Result(RESULTS_DIR, PMLR_n_img_x, PMLR_n_img_y, IMAGE_SIZE_MNIST, IMAGE_SIZE_MNIST, PMLR_resize_factor, PMLR_z_range)\n",
    "\n",
    "    x_PMLR = test_data[0:PMLR_n_samples, :]\n",
    "    id_PMLR = test_labels[0:PMLR_n_samples, :]\n",
    "\n",
    "    if ADD_NOISE:\n",
    "        x_PMLR = x_PMLR * np.random.randint(2, size=x_PMLR.shape)\n",
    "        x_PMLR += np.random.randint(2, size=x_PMLR.shape)\n",
    "\n",
    "    decoded = vae.decoder(z_in, dim_img, n_hidden)\n",
    "total_batch = int(n_samples / batch_size)\n",
    "min_tot_loss = 1e99\n",
    "sess=tf.Session()\n",
    "# with tf.Session() as sess:\n",
    "\n",
    "sess.run(tf.global_variables_initializer(), feed_dict={keep_prob : 0.9})\n",
    "\n",
    "for epoch in range(n_epochs):\n",
    "\n",
    "    # Random shuffling\n",
    "    np.random.shuffle(train_total_data)\n",
    "    train_data_ = train_total_data[:, :-mnist_data.NUM_LABELS]\n",
    "    train_label_= train_total_data[:, -mnist_data.NUM_LABELS:]\n",
    "    # Loop over all batches\n",
    "    for i in range(total_batch):\n",
    "        # Compute the offset of the current minibatch in the data.\n",
    "        offset = (i * batch_size) % (n_samples)\n",
    "        batch_xs_input = train_data_[offset:(offset + batch_size), :]\n",
    "        batch_xs_label = train_label_[offset:(offset + batch_size), :]\n",
    "        batch_xs_target = batch_xs_input\n",
    "\n",
    "        # add salt & pepper noise\n",
    "        if ADD_NOISE:\n",
    "            batch_xs_input = batch_xs_input * np.random.randint(2, size=batch_xs_input.shape)\n",
    "            batch_xs_input += np.random.randint(2, size=batch_xs_input.shape)\n",
    "\n",
    "        _, tot_loss, loss_likelihood, loss_divergence,class_loss,Sigma= sess.run(\n",
    "            (train_op, loss, neg_marginal_likelihood, KL_divergence,classifation_loss,SigMa),\n",
    "            feed_dict={x_hat: batch_xs_input, x: batch_xs_target, x_label:batch_xs_label,keep_prob : 0.9})\n",
    "\n",
    "    # print cost every epoch\n",
    "    print(Sigma.mean(axis=0))\n",
    "    print(Sigma.max(axis=0))\n",
    "    print(Sigma.min(axis=0))\n",
    "    print(\"epoch %d: L_tot %03.2f L_likelihood %03.2f L_divergence %03.2f classifation_loss %03.2f \" % (epoch, tot_loss, loss_likelihood, loss_divergence,class_loss))\n",
    "\n",
    "    # if minimum loss is updated or final epoch, plot results\n",
    "    if min_tot_loss > tot_loss or epoch+1 == n_epochs:\n",
    "        min_tot_loss = tot_loss\n",
    "        # Plot for reproduce performance\n",
    "        if PRR:\n",
    "            y_PRR = sess.run(y, feed_dict={x_hat: x_PRR, keep_prob : 1})\n",
    "            y_PRR_img = y_PRR.reshape(PRR.n_tot_imgs, IMAGE_SIZE_MNIST, IMAGE_SIZE_MNIST)\n",
    "            PRR.save_images(y_PRR_img, name=\"/PRR_epoch_%02d\" %(epoch) + \".jpg\")\n",
    "\n",
    "        # Plot for manifold learning result\n",
    "        if PMLR and dim_z == 2:\n",
    "            y_PMLR = sess.run(decoded, feed_dict={z_in: PMLR.z, keep_prob : 1})\n",
    "            y_PMLR_img = y_PMLR.reshape(PMLR.n_tot_imgs, IMAGE_SIZE_MNIST, IMAGE_SIZE_MNIST)\n",
    "            PMLR.save_images(y_PMLR_img, name=\"/PMLR_epoch_%02d\" % (epoch) + \".jpg\")\n",
    "\n",
    "            # plot distribution of labeled images\n",
    "            z_PMLR = sess.run(z, feed_dict={x_hat: x_PMLR, keep_prob : 1})\n",
    "            PMLR.save_scattered_image(z_PMLR,id_PMLR, name=\"/PMLR_map_epoch_%02d\" % (epoch) + \".jpg\")\n"
   ]
  },
  {
   "cell_type": "markdown",
   "metadata": {},
   "source": [
    "选定一个类别，准备数据\n",
    "\n",
    "例如：针对类别3，将训练集数据中类别3的样本组成数组"
   ]
  },
  {
   "cell_type": "code",
   "execution_count": 6,
   "metadata": {},
   "outputs": [
    {
     "name": "stdout",
     "output_type": "stream",
     "text": [
      "target domain 5444\n"
     ]
    },
    {
     "data": {
      "image/png": "[encoded data removed]",
      "text/plain": [
       "<Figure size 720x720 with 9 Axes>"
      ]
     },
     "metadata": {
      "needs_background": "light"
     },
     "output_type": "display_data"
    },
    {
     "name": "stdout",
     "output_type": "stream",
     "text": [
      "target domain 6179\n"
     ]
    },
    {
     "data": {
      "image/png": "[encoded data removed]",
      "text/plain": [
       "<Figure size 720x720 with 9 Axes>"
      ]
     },
     "metadata": {
      "needs_background": "light"
     },
     "output_type": "display_data"
    },
    {
     "name": "stdout",
     "output_type": "stream",
     "text": [
      "target domain 5470\n"
     ]
    },
    {
     "data": {
      "image/png": "[encoded data removed]",
      "text/plain": [
       "<Figure size 720x720 with 9 Axes>"
      ]
     },
     "metadata": {
      "needs_background": "light"
     },
     "output_type": "display_data"
    },
    {
     "name": "stdout",
     "output_type": "stream",
     "text": [
      "target domain 5638\n"
     ]
    },
    {
     "data": {
      "image/png": "[encoded data removed]",
      "text/plain": [
       "<Figure size 720x720 with 9 Axes>"
      ]
     },
     "metadata": {
      "needs_background": "light"
     },
     "output_type": "display_data"
    },
    {
     "name": "stdout",
     "output_type": "stream",
     "text": [
      "target domain 5307\n"
     ]
    },
    {
     "data": {
      "image/png": "[encoded data removed]",
      "text/plain": [
       "<Figure size 720x720 with 9 Axes>"
      ]
     },
     "metadata": {
      "needs_background": "light"
     },
     "output_type": "display_data"
    },
    {
     "name": "stdout",
     "output_type": "stream",
     "text": [
      "target domain 4987\n"
     ]
    },
    {
     "data": {
      "image/png": "[encoded data removed]",
      "text/plain": [
       "<Figure size 720x720 with 9 Axes>"
      ]
     },
     "metadata": {
      "needs_background": "light"
     },
     "output_type": "display_data"
    },
    {
     "name": "stdout",
     "output_type": "stream",
     "text": [
      "target domain 5417\n"
     ]
    },
    {
     "data": {
      "image/png": "[encoded data removed]",
      "text/plain": [
       "<Figure size 720x720 with 9 Axes>"
      ]
     },
     "metadata": {
      "needs_background": "light"
     },
     "output_type": "display_data"
    },
    {
     "name": "stdout",
     "output_type": "stream",
     "text": [
      "target domain 5715\n"
     ]
    },
    {
     "data": {
      "image/png": "[encoded data removed]",
      "text/plain": [
       "<Figure size 720x720 with 9 Axes>"
      ]
     },
     "metadata": {
      "needs_background": "light"
     },
     "output_type": "display_data"
    },
    {
     "name": "stdout",
     "output_type": "stream",
     "text": [
      "target domain 5389\n"
     ]
    },
    {
     "data": {
      "image/png": "[encoded data removed]",
      "text/plain": [
       "<Figure size 720x720 with 9 Axes>"
      ]
     },
     "metadata": {
      "needs_background": "light"
     },
     "output_type": "display_data"
    },
    {
     "name": "stdout",
     "output_type": "stream",
     "text": [
      "target domain 5454\n"
     ]
    },
    {
     "data": {
      "image/png": "[encoded data removed]",
      "text/plain": [
       "<Figure size 720x720 with 9 Axes>"
      ]
     },
     "metadata": {
      "needs_background": "light"
     },
     "output_type": "display_data"
    }
   ],
   "source": [
    "for choose_c in range(10):\n",
    "    c=0\n",
    "    for p in range(train_total_data.shape[0]):\n",
    "        if np.argmax(train_total_data[p,-10:])==choose_c:\n",
    "            c+=1\n",
    "\n",
    "    target_domain_size=c\n",
    "    print('target domain',target_domain_size)\n",
    "\n",
    "    k3=np.zeros([target_domain_size,784])\n",
    "    c=0\n",
    "    for p in range(train_total_data.shape[0]):\n",
    "        if np.argmax(train_total_data[p,-10:])==choose_c:\n",
    "            k3[c]=train_total_data[p,:-10]\n",
    "            c+=1\n",
    "    #         if c == 10:\n",
    "    #             print('target domain test count')\n",
    "    #             plt.imshow(train_total_data[p,:-10].reshape([28,28]))\n",
    "    #             plt.show()\n",
    "    #设置batch size\n",
    "    target_batch = int(target_domain_size / batch_size)\n",
    "\n",
    "    #同一类别的隐变量\n",
    "    vec_ari_a=np.zeros([target_batch*batch_size,dim_z])\n",
    "    for offset in range(target_batch):\n",
    "        x_batch=k3[offset*batch_size:(offset+1)*batch_size]\n",
    "        z_batch = sess.run(z, feed_dict={x_hat: x_batch, keep_prob : 1})\n",
    "        vec_ari_a[offset*batch_size:(offset+1)*batch_size]=z_batch\n",
    "    mu_,sigma_=vec_ari_a.mean(axis=0),vec_ari_a.std(axis=0)\n",
    "\n",
    "    c=0\n",
    "    plt.figure(figsize=(10,10))\n",
    "    for i in range(3):\n",
    "        for j in range(3):\n",
    "            z_sample_=mu_ + sigma_ * np.random.normal(0.0,1.0,mu_.shape)\n",
    "            y_PMLR = sess.run(decoded, feed_dict={z_in: z_sample_.reshape([1,-1]), keep_prob : 1})\n",
    "            label = sess.run(z_class, feed_dict={z: z_sample_.reshape([1,-1]), keep_prob : 1})\n",
    "            np.clip(y_PMLR,1e-8, 1 - 1e-8,out=y_PMLR)\n",
    "            loc=''.join([str(3),str(3),str(c+1)])\n",
    "            plt.subplot(eval(loc))\n",
    "            plt.ylabel(str(np.argmax(label)))\n",
    "#             plt.legend(str(label))\n",
    "            plt.imshow(y_PMLR.reshape([28,28]),cmap='gray')\n",
    "            c+=1\n",
    "    figpath=os.getcwd()+'/'+str(n_epochs)+'_'+str(dim_z)\n",
    "    if not os.path.exists(figpath):\n",
    "        os.system('mkdir '+figpath)\n",
    "    plt.savefig(figpath+'/'+str(choose_c)+'.jpg')\n",
    "    plt.show()\n"
   ]
  },
  {
   "cell_type": "code",
   "execution_count": 7,
   "metadata": {},
   "outputs": [
    {
     "name": "stdout",
     "output_type": "stream",
     "text": [
      "0.09805689102564102\n"
     ]
    }
   ],
   "source": [
    "test_batch_size=32\n",
    "test_batch=int(test_data.shape[0]/test_batch_size)\n",
    "c=0\n",
    "for offset in range(test_batch):\n",
    "    x_batch=test_data[offset*test_batch_size:(offset+1)*test_batch_size]\n",
    "    label_batch=test_labels[offset*test_batch_size:(offset+1)*test_batch_size]\n",
    "    label = sess.run(z_class, feed_dict={x_hat: x_batch,keep_prob : 1})\n",
    "    c+=np.sum(np.argmax(label,axis=1)==np.argmax(label_batch,axis=1))\n",
    "print(c/test_batch/test_batch_size)"
   ]
  }
 ],
 "metadata": {
  "kernelspec": {
   "display_name": "Python 3",
   "language": "python",
   "name": "python3"
  },
  "language_info": {
   "codemirror_mode": {
    "name": "ipython",
    "version": 3
   },
   "file_extension": ".py",
   "mimetype": "text/x-python",
   "name": "python",
   "nbconvert_exporter": "python",
   "pygments_lexer": "ipython3",
   "version": "3.6.8"
  }
 },
 "nbformat": 4,
 "nbformat_minor": 2
}
