{
 "cells": [
  {
   "cell_type": "markdown",
   "metadata": {},
   "source": [
    "导入库"
   ]
  },
  {
   "cell_type": "code",
   "execution_count": 1,
   "metadata": {},
   "outputs": [],
   "source": [
    "import tensorflow as tf\n",
    "import numpy as np\n",
    "import mnist_data\n",
    "import os\n",
    "# import beta_vae as vae\n",
    "import vae\n",
    "import plot_utils\n",
    "import glob\n",
    "import random\n",
    "import matplotlib.pyplot as plt\n",
    "import cv2"
   ]
  },
  {
   "cell_type": "markdown",
   "metadata": {},
   "source": [
    "配置参数"
   ]
  },
  {
   "cell_type": "code",
   "execution_count": 2,
   "metadata": {},
   "outputs": [],
   "source": [
    "#gpu\n",
    "os.environ[\"CUDA_VISIBLE_DEVICES\"] = \"0\"\n",
    "#图像尺寸\n",
    "IMAGE_SIZE_MNIST = 28\n",
    "#隐变量维度\n",
    "dim_z=20\n",
    "#隐层节点数\n",
    "n_hidden=500\n",
    "#学习率\n",
    "learn_rate=1e-3\n",
    "#训练轮数\n",
    "n_epochs=20\n",
    "#批量数目\n",
    "batch_size=128\n",
    "#标签样式 one-hot编码\n",
    "one_hot=np.eye(10)\n",
    "#结果保存路径\n",
    "path=os.path.join(os.getcwd(),'result')\n",
    "if not os.path.exists(path):\n",
    "    os.system('mkdir '+path)\n",
    "RESULTS_DIR=path\n",
    "#是否加入噪声，denoise vae\n",
    "ADD_NOISE=False\n",
    "dim_img = IMAGE_SIZE_MNIST**2\n",
    "#beta-vae\n",
    "beta=2.0\n",
    "#画图\n",
    "PRR=True\n",
    "PRR_n_img_x=10\n",
    "PRR_n_img_y=10\n",
    "PRR_resize_factor=1.0\n",
    "PMLR=False\n",
    "PMLR_n_img_x=20\n",
    "PMLR_n_img_y=20\n",
    "PMLR_resize_factor=1.0\n",
    "PMLR_z_range=2.0\n",
    "PMLR_n_samples=5000"
   ]
  },
  {
   "cell_type": "markdown",
   "metadata": {},
   "source": [
    "准备target domain 数据"
   ]
  },
  {
   "cell_type": "code",
   "execution_count": 3,
   "metadata": {},
   "outputs": [
    {
     "name": "stderr",
     "output_type": "stream",
     "text": [
      "WARNING: Logging before flag parsing goes to stderr.\n",
      "W0916 15:30:37.407351 140308698335040 deprecation_wrapper.py:119] From /home/yuemei.zhu/tensorflow-mnist-VAE/mnist_data.py:30: The name tf.gfile.Exists is deprecated. Please use tf.io.gfile.exists instead.\n",
      "\n"
     ]
    },
    {
     "name": "stdout",
     "output_type": "stream",
     "text": [
      "Extracting data/train-images-idx3-ubyte.gz\n",
      "Extracting data/train-labels-idx1-ubyte.gz\n",
      "Extracting data/t10k-images-idx3-ubyte.gz\n",
      "Extracting data/t10k-labels-idx1-ubyte.gz\n"
     ]
    }
   ],
   "source": [
    "train_total_data, train_size, _, _, test_data, test_labels = mnist_data.prepare_MNIST_data()"
   ]
  },
  {
   "cell_type": "code",
   "execution_count": 4,
   "metadata": {},
   "outputs": [],
   "source": [
    "choose_c=6\n",
    "ind=np.zeros(train_total_data.shape[0])\n",
    "unbanlance_p=0.5\n",
    "for p in range(train_total_data.shape[0]):\n",
    "    ind[p]=np.argmax(train_total_data[p,-10:])\n",
    "no_c_array=train_total_data[~np.equal(ind,choose_c)]\n",
    "c_array=train_total_data[np.equal(ind,choose_c)]\n",
    "remain=int(c_array.shape[0]*unbanlance_p)\n",
    "train_unbanlance_data=np.concatenate([no_c_array,c_array[:remain]],axis=0)"
   ]
  },
  {
   "cell_type": "code",
   "execution_count": 5,
   "metadata": {},
   "outputs": [
    {
     "data": {
      "text/plain": [
       "55000"
      ]
     },
     "execution_count": 5,
     "metadata": {},
     "output_type": "execute_result"
    }
   ],
   "source": [
    "no_c_array.shape[0]+c_array.shape[0]"
   ]
  },
  {
   "cell_type": "code",
   "execution_count": 6,
   "metadata": {},
   "outputs": [
    {
     "data": {
      "text/plain": [
       "(52291, 794)"
      ]
     },
     "execution_count": 6,
     "metadata": {},
     "output_type": "execute_result"
    }
   ],
   "source": [
    "train_unbanlance_data.shape"
   ]
  },
  {
   "cell_type": "code",
   "execution_count": 7,
   "metadata": {},
   "outputs": [
    {
     "name": "stderr",
     "output_type": "stream",
     "text": [
      "W0916 15:30:38.760454 140308698335040 deprecation_wrapper.py:119] From /home/yuemei.zhu/tensorflow-mnist-VAE/vae.py:5: The name tf.variable_scope is deprecated. Please use tf.compat.v1.variable_scope instead.\n",
      "\n",
      "W0916 15:30:39.566713 140308698335040 lazy_loader.py:50] \n",
      "The TensorFlow contrib module will not be included in TensorFlow 2.0.\n",
      "For more information, please see:\n",
      "  * https://github.com/tensorflow/community/blob/master/rfcs/20180907-contrib-sunset.md\n",
      "  * https://github.com/tensorflow/addons\n",
      "  * https://github.com/tensorflow/io (for I/O related ops)\n",
      "If you depend on functionality not listed there, please file an issue.\n",
      "\n",
      "W0916 15:30:39.568409 140308698335040 deprecation_wrapper.py:119] From /home/yuemei.zhu/tensorflow-mnist-VAE/vae.py:11: The name tf.get_variable is deprecated. Please use tf.compat.v1.get_variable instead.\n",
      "\n",
      "W0916 15:30:39.583563 140308698335040 deprecation.py:506] From /home/yuemei.zhu/tensorflow-mnist-VAE/vae.py:15: calling dropout (from tensorflow.python.ops.nn_ops) with keep_prob is deprecated and will be removed in a future version.\n",
      "Instructions for updating:\n",
      "Please use `rate` instead of `keep_prob`. Rate should be set to `rate = 1 - keep_prob`.\n",
      "W0916 15:30:39.630403 140308698335040 deprecation_wrapper.py:119] From /home/yuemei.zhu/tensorflow-mnist-VAE/vae.py:74: The name tf.random_normal is deprecated. Please use tf.random.normal instead.\n",
      "\n",
      "W0916 15:30:39.692054 140308698335040 deprecation_wrapper.py:119] From /home/yuemei.zhu/tensorflow-mnist-VAE/vae.py:81: The name tf.log is deprecated. Please use tf.math.log instead.\n",
      "\n",
      "W0916 15:30:39.820996 140308698335040 deprecation.py:323] From /home/yuemei.zhu/.local/lib/python3.6/site-packages/tensorflow/python/ops/math_grad.py:1250: add_dispatch_support.<locals>.wrapper (from tensorflow.python.ops.array_ops) is deprecated and will be removed in a future version.\n",
      "Instructions for updating:\n",
      "Use tf.where in 2.0, which has the same broadcast rule as np.where\n"
     ]
    }
   ],
   "source": [
    "\n",
    "\"\"\" build graph \"\"\"\n",
    "# input placeholders\n",
    "# In denoising-autoencoder, x_hat == x + noise, otherwise x_hat == x\n",
    "x_hat = tf.placeholder(tf.float32, shape=[None, dim_img], name='input_img')\n",
    "x = tf.placeholder(tf.float32, shape=[None, dim_img], name='target_img')\n",
    "\n",
    "# dropout\n",
    "keep_prob = tf.placeholder(tf.float32, name='keep_prob')\n",
    "\n",
    "# input for PMLR\n",
    "z_in = tf.placeholder(tf.float32, shape=[None, dim_z], name='latent_variable')\n",
    "\n",
    "#vae\n",
    "y, z, loss, neg_marginal_likelihood, KL_divergence = vae.autoencoder(x_hat, x, dim_img, dim_z, n_hidden, keep_prob)\n",
    "\n",
    "# network architecture beta vae\n",
    "# y, z, loss, neg_marginal_likelihood, KL_divergence = vae.autoencoder(x_hat, x, dim_img, dim_z, n_hidden, keep_prob,beta)\n",
    "\n",
    "# optimization\n",
    "train_op = tf.train.AdamOptimizer(learn_rate).minimize(loss)\n",
    "\n",
    "decoded = vae.decoder(z_in, dim_img, n_hidden)"
   ]
  },
  {
   "cell_type": "code",
   "execution_count": 9,
   "metadata": {},
   "outputs": [
    {
     "name": "stdout",
     "output_type": "stream",
     "text": [
      "epoch 0: L_tot 130.23 L_likelihood 106.23 L_divergence 23.99\n",
      "epoch 1: L_tot 125.39 L_likelihood 101.11 L_divergence 24.28\n",
      "epoch 2: L_tot 124.80 L_likelihood 99.74 L_divergence 25.06\n",
      "epoch 3: L_tot 120.62 L_likelihood 96.49 L_divergence 24.13\n",
      "epoch 4: L_tot 115.26 L_likelihood 91.44 L_divergence 23.82\n",
      "epoch 5: L_tot 114.03 L_likelihood 90.35 L_divergence 23.68\n",
      "epoch 6: L_tot 115.81 L_likelihood 91.80 L_divergence 24.01\n",
      "epoch 7: L_tot 111.42 L_likelihood 87.57 L_divergence 23.85\n",
      "epoch 8: L_tot 114.10 L_likelihood 89.94 L_divergence 24.16\n",
      "epoch 9: L_tot 108.30 L_likelihood 84.78 L_divergence 23.52\n",
      "epoch 10: L_tot 110.38 L_likelihood 86.55 L_divergence 23.83\n",
      "epoch 11: L_tot 114.67 L_likelihood 90.57 L_divergence 24.10\n",
      "epoch 12: L_tot 111.85 L_likelihood 88.23 L_divergence 23.62\n",
      "epoch 13: L_tot 111.23 L_likelihood 87.86 L_divergence 23.38\n",
      "epoch 14: L_tot 110.45 L_likelihood 87.06 L_divergence 23.40\n",
      "epoch 15: L_tot 109.21 L_likelihood 85.39 L_divergence 23.82\n",
      "epoch 16: L_tot 111.12 L_likelihood 87.43 L_divergence 23.69\n",
      "epoch 17: L_tot 112.22 L_likelihood 88.06 L_divergence 24.16\n",
      "epoch 18: L_tot 104.71 L_likelihood 81.49 L_divergence 23.22\n",
      "epoch 19: L_tot 109.93 L_likelihood 86.29 L_divergence 23.64\n"
     ]
    }
   ],
   "source": [
    "np.random.seed(100)\n",
    "# n_samples=train_size\n",
    "n_samples=train_unbanlance_data.shape[0]\n",
    "\"\"\" training \"\"\"\n",
    "\n",
    "# Plot for reproduce performance\n",
    "if PRR:\n",
    "    PRR = plot_utils.Plot_Reproduce_Performance(RESULTS_DIR, PRR_n_img_x, PRR_n_img_y, IMAGE_SIZE_MNIST, IMAGE_SIZE_MNIST, PRR_resize_factor)\n",
    "\n",
    "    x_PRR = test_data[0:PRR.n_tot_imgs, :]\n",
    "\n",
    "    x_PRR_img = x_PRR.reshape(PRR.n_tot_imgs, IMAGE_SIZE_MNIST, IMAGE_SIZE_MNIST)\n",
    "    PRR.save_images(x_PRR_img, name='input.jpg')\n",
    "\n",
    "    if ADD_NOISE:\n",
    "        x_PRR = x_PRR * np.random.randint(2, size=x_PRR.shape)\n",
    "        x_PRR += np.random.randint(2, size=x_PRR.shape)\n",
    "\n",
    "        x_PRR_img = x_PRR.reshape(PRR.n_tot_imgs, IMAGE_SIZE_MNIST, IMAGE_SIZE_MNIST)\n",
    "        PRR.save_images(x_PRR_img, name='input_noise.jpg')\n",
    "\n",
    "# Plot for manifold learning result\n",
    "if PMLR and dim_z == 2:\n",
    "\n",
    "    PMLR = plot_utils.Plot_Manifold_Learning_Result(RESULTS_DIR, PMLR_n_img_x, PMLR_n_img_y, IMAGE_SIZE_MNIST, IMAGE_SIZE_MNIST, PMLR_resize_factor, PMLR_z_range)\n",
    "\n",
    "    x_PMLR = test_data[0:PMLR_n_samples, :]\n",
    "    id_PMLR = test_labels[0:PMLR_n_samples, :]\n",
    "\n",
    "    if ADD_NOISE:\n",
    "        x_PMLR = x_PMLR * np.random.randint(2, size=x_PMLR.shape)\n",
    "        x_PMLR += np.random.randint(2, size=x_PMLR.shape)\n",
    "\n",
    "    decoded = vae.decoder(z_in, dim_img, n_hidden)\n",
    "total_batch = int(n_samples / batch_size)\n",
    "min_tot_loss = 1e99\n",
    "sess=tf.Session()\n",
    "# with tf.Session() as sess:\n",
    "\n",
    "sess.run(tf.global_variables_initializer(), feed_dict={keep_prob : 0.9})\n",
    "\n",
    "for epoch in range(n_epochs):\n",
    "\n",
    "    # Random shuffling\n",
    "    np.random.shuffle(train_unbanlance_data)\n",
    "    train_data_ = train_unbanlance_data[:, :-mnist_data.NUM_LABELS]\n",
    "    # Loop over all batches\n",
    "    for i in range(total_batch):\n",
    "        # Compute the offset of the current minibatch in the data.\n",
    "        offset = (i * batch_size) % (n_samples)\n",
    "        batch_xs_input = train_data_[offset:(offset + batch_size), :]\n",
    "\n",
    "        batch_xs_target = batch_xs_input\n",
    "\n",
    "        # add salt & pepper noise\n",
    "        if ADD_NOISE:\n",
    "            batch_xs_input = batch_xs_input * np.random.randint(2, size=batch_xs_input.shape)\n",
    "            batch_xs_input += np.random.randint(2, size=batch_xs_input.shape)\n",
    "\n",
    "        _, tot_loss, loss_likelihood, loss_divergence = sess.run(\n",
    "            (train_op, loss, neg_marginal_likelihood, KL_divergence),\n",
    "            feed_dict={x_hat: batch_xs_input, x: batch_xs_target, keep_prob : 0.9})\n",
    "\n",
    "    # print cost every epoch\n",
    "    print(\"epoch %d: L_tot %03.2f L_likelihood %03.2f L_divergence %03.2f\" % (epoch, tot_loss, loss_likelihood, loss_divergence))\n",
    "\n",
    "    # if minimum loss is updated or final epoch, plot results\n",
    "    if min_tot_loss > tot_loss or epoch+1 == n_epochs:\n",
    "        min_tot_loss = tot_loss\n",
    "        # Plot for reproduce performance\n",
    "        if PRR:\n",
    "            y_PRR = sess.run(y, feed_dict={x_hat: x_PRR, keep_prob : 1})\n",
    "            y_PRR_img = y_PRR.reshape(PRR.n_tot_imgs, IMAGE_SIZE_MNIST, IMAGE_SIZE_MNIST)\n",
    "            PRR.save_images(y_PRR_img, name=\"/PRR_epoch_%02d\" %(epoch) + \".jpg\")\n",
    "\n",
    "        # Plot for manifold learning result\n",
    "        if PMLR and dim_z == 2:\n",
    "            y_PMLR = sess.run(decoded, feed_dict={z_in: PMLR.z, keep_prob : 1})\n",
    "            y_PMLR_img = y_PMLR.reshape(PMLR.n_tot_imgs, IMAGE_SIZE_MNIST, IMAGE_SIZE_MNIST)\n",
    "            PMLR.save_images(y_PMLR_img, name=\"/PMLR_epoch_%02d\" % (epoch) + \".jpg\")\n",
    "\n",
    "            # plot distribution of labeled images\n",
    "            z_PMLR = sess.run(z, feed_dict={x_hat: x_PMLR, keep_prob : 1})\n",
    "            PMLR.save_scattered_image(z_PMLR,id_PMLR, name=\"/PMLR_map_epoch_%02d\" % (epoch) + \".jpg\")\n"
   ]
  },
  {
   "cell_type": "markdown",
   "metadata": {},
   "source": [
    "选定一个类别，准备数据\n",
    "\n",
    "例如：针对类别3，将训练集数据中类别3的样本组成数组"
   ]
  },
  {
   "cell_type": "code",
   "execution_count": 11,
   "metadata": {},
   "outputs": [
    {
     "name": "stdout",
     "output_type": "stream",
     "text": [
      "target domain 2708\n"
     ]
    }
   ],
   "source": [
    "choose_c=6\n",
    "c=0\n",
    "for p in range(train_unbanlance_data.shape[0]):\n",
    "    if np.argmax(train_unbanlance_data[p,-10:])==choose_c:\n",
    "        c+=1\n",
    "\n",
    "target_domain_size=c\n",
    "print('target domain',target_domain_size)\n",
    "\n",
    "k3=np.zeros([target_domain_size,784])\n",
    "c=0\n",
    "for p in range(train_unbanlance_data.shape[0]):\n",
    "    if np.argmax(train_unbanlance_data[p,-10:])==choose_c:\n",
    "        k3[c]=train_unbanlance_data[p,:-10]\n",
    "        c+=1\n",
    "#         if c == 10:\n",
    "#             print('target domain test count')\n",
    "#             plt.imshow(train_total_data[p,:-10].reshape([28,28]))\n",
    "#             plt.show()\n",
    "#设置batch size\n",
    "target_batch = int(target_domain_size / batch_size)\n",
    "\n",
    "#同一类别的隐变量\n",
    "vec_ari_a=np.zeros([target_batch*batch_size,dim_z])\n",
    "for offset in range(target_batch):\n",
    "    x_batch=k3[offset*batch_size:(offset+1)*batch_size]\n",
    "    z_batch = sess.run(z, feed_dict={x_hat: x_batch, keep_prob : 1})\n",
    "    vec_ari_a[offset*batch_size:(offset+1)*batch_size]=z_batch\n",
    "mu_,sigma_=vec_ari_a.mean(axis=0),vec_ari_a.std(axis=0)"
   ]
  },
  {
   "cell_type": "code",
   "execution_count": 12,
   "metadata": {},
   "outputs": [
    {
     "data": {
      "image/png": "[encoded data removed]",
      "text/plain": [
       "<Figure size 432x288 with 9 Axes>"
      ]
     },
     "metadata": {
      "needs_background": "light"
     },
     "output_type": "display_data"
    }
   ],
   "source": [
    "c=0\n",
    "plt.figure\n",
    "for i in range(3):\n",
    "    for j in range(3):\n",
    "        z_sample_=mu_ + sigma_ * np.random.normal(0.0,1.0,mu_.shape)\n",
    "        y_PMLR = sess.run(decoded, feed_dict={z_in: z_sample_.reshape([1,-1]), keep_prob : 1})\n",
    "        np.clip(y_PMLR,1e-8, 1 - 1e-8,out=y_PMLR)\n",
    "        loc=''.join([str(3),str(3),str(c+1)])\n",
    "        plt.subplot(eval(loc))\n",
    "        plt.imshow(y_PMLR.reshape([28,28]),cmap='gray')\n",
    "        c+=1\n",
    "plt.show()"
   ]
  },
  {
   "cell_type": "code",
   "execution_count": null,
   "metadata": {},
   "outputs": [],
   "source": []
  }
 ],
 "metadata": {
  "kernelspec": {
   "display_name": "Python 3",
   "language": "python",
   "name": "python3"
  },
  "language_info": {
   "codemirror_mode": {
    "name": "ipython",
    "version": 3
   },
   "file_extension": ".py",
   "mimetype": "text/x-python",
   "name": "python",
   "nbconvert_exporter": "python",
   "pygments_lexer": "ipython3",
   "version": "3.6.8"
  }
 },
 "nbformat": 4,
 "nbformat_minor": 2
}
