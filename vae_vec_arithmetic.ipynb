{
 "cells": [
  {
   "cell_type": "markdown",
   "metadata": {},
   "source": [
    "导入库"
   ]
  },
  {
   "cell_type": "code",
   "execution_count": 1,
   "metadata": {},
   "outputs": [],
   "source": [
    "\n",
    "import tensorflow as tf\n",
    "import numpy as np\n",
    "import mnist_data\n",
    "import os\n",
    "# import beta_vae as vae\n",
    "import vae\n",
    "import plot_utils\n",
    "import glob\n",
    "import random\n",
    "import matplotlib.pyplot as plt\n",
    "import cv2"
   ]
  },
  {
   "cell_type": "markdown",
   "metadata": {},
   "source": [
    "配置参数"
   ]
  },
  {
   "cell_type": "code",
   "execution_count": 2,
   "metadata": {},
   "outputs": [],
   "source": [
    "#gpu\n",
    "os.environ[\"CUDA_VISIBLE_DEVICES\"] = \"1\"\n",
    "#图像尺寸\n",
    "IMAGE_SIZE_MNIST = 28\n",
    "#隐变量维度\n",
    "dim_z=20\n",
    "#隐层节点数\n",
    "n_hidden=500\n",
    "#学习率\n",
    "learn_rate=1e-3\n",
    "#训练轮数\n",
    "n_epochs=10\n",
    "#批量数目\n",
    "batch_size=128\n",
    "#标签样式 one-hot编码\n",
    "one_hot=np.eye(10)\n",
    "#结果保存路径\n",
    "path=os.path.join(os.getcwd(),'result')\n",
    "if not os.path.exists(path):\n",
    "    os.system('mkdir '+path)\n",
    "RESULTS_DIR=path\n",
    "#是否加入噪声，denoise vae\n",
    "ADD_NOISE=False\n",
    "dim_img = IMAGE_SIZE_MNIST**2\n",
    "#beta-vae\n",
    "beta=2.0\n",
    "#画图\n",
    "PRR=True\n",
    "PRR_n_img_x=10\n",
    "PRR_n_img_y=10\n",
    "PRR_resize_factor=1.0\n",
    "PMLR=False\n",
    "PMLR_n_img_x=20\n",
    "PMLR_n_img_y=20\n",
    "PMLR_resize_factor=1.0\n",
    "PMLR_z_range=2.0\n",
    "PMLR_n_samples=5000"
   ]
  },
  {
   "cell_type": "markdown",
   "metadata": {},
   "source": [
    "准备new domain数据"
   ]
  },
  {
   "cell_type": "code",
   "execution_count": 3,
   "metadata": {},
   "outputs": [],
   "source": [
    "#固定随机因子\n",
    "random.seed(100)\n",
    "#印刷体mnist数据\n",
    "newdata_path=os.path.join(os.getcwd(),'mnist/pr')\n",
    "#训练数据比例\n",
    "propotion=0.7\n",
    "imlist=os.listdir(newdata_path)\n",
    "#印刷体mnist数据训练集样本数\n",
    "train_font_size=int(len(imlist)*0.7)\n",
    "random.shuffle(imlist)\n",
    "trainlist=imlist[:train_font_size]\n",
    "testlist=imlist[train_font_size:]\n",
    "#印刷体mnist数据测试集样本数\n",
    "test_font_size=len(testlist)\n",
    "#训练集数组，包含样本内容和标签\n",
    "train_font_data=np.zeros([train_font_size,794])\n",
    "#测试集数组，只包含数据内容\n",
    "test_font_data=np.zeros([test_font_size,784])\n",
    "#测试集标签\n",
    "test_font_labels=np.zeros([test_font_size,10])\n",
    "c=0\n",
    "for im in trainlist:\n",
    "    label=int(im.split('_')[0])\n",
    "    img=cv2.imread(newdata_path+'/'+im,0).reshape(784)/255.0\n",
    "    train_font_data[c]=np.concatenate([img,one_hot[label]])\n",
    "    c+=1\n",
    "    \n",
    "c=0\n",
    "for im in testlist:\n",
    "    label=int(im.split('_')[0])\n",
    "    img=cv2.imread(newdata_path+'/'+im,0).reshape(784)/255.0\n",
    "    test_font_data[c]=img\n",
    "    test_font_labels[c]=one_hot[label]\n",
    "    c+=1\n"
   ]
  },
  {
   "cell_type": "markdown",
   "metadata": {},
   "source": [
    "检验数据"
   ]
  },
  {
   "cell_type": "code",
   "execution_count": 4,
   "metadata": {},
   "outputs": [
    {
     "name": "stdout",
     "output_type": "stream",
     "text": [
      " 训练集\n",
      "标签编码： [0. 1. 0. 0. 0. 0. 0. 0. 0. 0.]\n"
     ]
    },
    {
     "data": {
      "image/png": "[encoded data removed]",
      "text/plain": [
       "<Figure size 432x288 with 1 Axes>"
      ]
     },
     "metadata": {
      "needs_background": "light"
     },
     "output_type": "display_data"
    }
   ],
   "source": [
    "print(' 训练集')\n",
    "plt.title('train dataset sample')\n",
    "plt.imshow(train_font_data[1,:-10].reshape([28,28]))\n",
    "print('标签编码：',train_font_data[1,-10:])\n"
   ]
  },
  {
   "cell_type": "code",
   "execution_count": 5,
   "metadata": {},
   "outputs": [
    {
     "name": "stdout",
     "output_type": "stream",
     "text": [
      " 测试集\n",
      "标签编码： [1. 0. 0. 0. 0. 0. 0. 0. 0. 0.]\n"
     ]
    },
    {
     "data": {
      "image/png": "[encoded data removed]",
      "text/plain": [
       "<Figure size 432x288 with 1 Axes>"
      ]
     },
     "metadata": {
      "needs_background": "light"
     },
     "output_type": "display_data"
    }
   ],
   "source": [
    "print(' 测试集')\n",
    "plt.title('test dataset sample')\n",
    "plt.imshow(test_font_data[1].reshape([28,28]))\n",
    "print('标签编码：',test_font_labels[1])"
   ]
  },
  {
   "cell_type": "markdown",
   "metadata": {},
   "source": [
    "准备target domain 数据"
   ]
  },
  {
   "cell_type": "code",
   "execution_count": 6,
   "metadata": {},
   "outputs": [
    {
     "name": "stderr",
     "output_type": "stream",
     "text": [
      "WARNING: Logging before flag parsing goes to stderr.\n",
      "W0916 10:48:42.950549 140666206533440 deprecation_wrapper.py:119] From /home/yuemei.zhu/tensorflow-mnist-VAE/mnist_data.py:30: The name tf.gfile.Exists is deprecated. Please use tf.io.gfile.exists instead.\n",
      "\n"
     ]
    },
    {
     "name": "stdout",
     "output_type": "stream",
     "text": [
      "Extracting data/train-images-idx3-ubyte.gz\n",
      "Extracting data/train-labels-idx1-ubyte.gz\n",
      "Extracting data/t10k-images-idx3-ubyte.gz\n",
      "Extracting data/t10k-labels-idx1-ubyte.gz\n"
     ]
    }
   ],
   "source": [
    "train_total_data, train_size, _, _, test_data, test_labels = mnist_data.prepare_MNIST_data()"
   ]
  },
  {
   "cell_type": "code",
   "execution_count": 7,
   "metadata": {},
   "outputs": [
    {
     "name": "stdout",
     "output_type": "stream",
     "text": [
      " 训练集\n",
      "标签编码： [0. 0. 0. 1. 0. 0. 0. 0. 0. 0.]\n"
     ]
    },
    {
     "data": {
      "image/png": "[encoded data removed]",
      "text/plain": [
       "<Figure size 432x288 with 1 Axes>"
      ]
     },
     "metadata": {
      "needs_background": "light"
     },
     "output_type": "display_data"
    }
   ],
   "source": [
    "print(' 训练集')\n",
    "plt.title('train dataset sample')\n",
    "plt.imshow(train_total_data[1,:-10].reshape([28,28]))\n",
    "print('标签编码：',train_total_data[1,-10:])"
   ]
  },
  {
   "cell_type": "code",
   "execution_count": 8,
   "metadata": {},
   "outputs": [
    {
     "name": "stdout",
     "output_type": "stream",
     "text": [
      " 测试集\n",
      "标签编码： [0. 0. 1. 0. 0. 0. 0. 0. 0. 0.]\n"
     ]
    },
    {
     "data": {
      "image/png": "[encoded data removed]",
      "text/plain": [
       "<Figure size 432x288 with 1 Axes>"
      ]
     },
     "metadata": {
      "needs_background": "light"
     },
     "output_type": "display_data"
    }
   ],
   "source": [
    "print(' 测试集')\n",
    "plt.title('test dataset sample')\n",
    "plt.imshow(test_data[1].reshape([28,28]))\n",
    "print('标签编码：',test_labels[1])"
   ]
  },
  {
   "cell_type": "markdown",
   "metadata": {},
   "source": [
    "target domain 测试集平均脸"
   ]
  },
  {
   "cell_type": "code",
   "execution_count": 9,
   "metadata": {},
   "outputs": [
    {
     "data": {
      "text/plain": [
       "<matplotlib.image.AxesImage at 0x7fee69a50dd8>"
      ]
     },
     "execution_count": 9,
     "metadata": {},
     "output_type": "execute_result"
    },
    {
     "data": {
      "image/png": "[encoded data removed]",
      "text/plain": [
       "<Figure size 432x288 with 1 Axes>"
      ]
     },
     "metadata": {
      "needs_background": "light"
     },
     "output_type": "display_data"
    }
   ],
   "source": [
    "#p=test_font_data.reshape([-1,28,28])\n",
    "pq=np.zeros([28,28])\n",
    "c=0\n",
    "for p in range(test_data.shape[0]):\n",
    "    if np.argmax(test_labels[p])==3:\n",
    "        pq+=test_data[p].reshape([28,28])\n",
    "        c+=1\n",
    "plt.imshow(pq/c)"
   ]
  },
  {
   "cell_type": "markdown",
   "metadata": {},
   "source": [
    "选定一个类别，为vector arithmetic测试，准备数据\n",
    "\n",
    "例如：针对类别3，将new domain数据中类别3的样本组成数组，\n",
    "\n",
    "target domain数据中类别3的样本组成数组"
   ]
  },
  {
   "cell_type": "code",
   "execution_count": 10,
   "metadata": {},
   "outputs": [
    {
     "name": "stdout",
     "output_type": "stream",
     "text": [
      "target domain test count\n"
     ]
    },
    {
     "data": {
      "image/png": "[encoded data removed]",
      "text/plain": [
       "<Figure size 432x288 with 1 Axes>"
      ]
     },
     "metadata": {
      "needs_background": "light"
     },
     "output_type": "display_data"
    },
    {
     "name": "stdout",
     "output_type": "stream",
     "text": [
      "target domain 5638\n",
      "new domain test count\n"
     ]
    },
    {
     "data": {
      "image/png": "[encoded data removed]",
      "text/plain": [
       "<Figure size 432x288 with 1 Axes>"
      ]
     },
     "metadata": {
      "needs_background": "light"
     },
     "output_type": "display_data"
    },
    {
     "name": "stdout",
     "output_type": "stream",
     "text": [
      "new domain 355\n",
      "target domain test data\n"
     ]
    },
    {
     "data": {
      "image/png": "[encoded data removed]",
      "text/plain": [
       "<Figure size 432x288 with 1 Axes>"
      ]
     },
     "metadata": {
      "needs_background": "light"
     },
     "output_type": "display_data"
    },
    {
     "name": "stdout",
     "output_type": "stream",
     "text": [
      "new domain test data\n"
     ]
    },
    {
     "data": {
      "image/png": "[encoded data removed]",
      "text/plain": [
       "<Figure size 432x288 with 1 Axes>"
      ]
     },
     "metadata": {
      "needs_background": "light"
     },
     "output_type": "display_data"
    }
   ],
   "source": [
    "c=0\n",
    "for p in range(train_total_data.shape[0]):\n",
    "    if np.argmax(train_total_data[p,-10:])==3:\n",
    "        c+=1\n",
    "#         print(c)\n",
    "        if c == 10:\n",
    "#             print(c)\n",
    "            print('target domain test count')\n",
    "            plt.imshow(train_total_data[p,:-10].reshape([28,28]))\n",
    "            plt.show()\n",
    "target_domain_size=c\n",
    "print('target domain',target_domain_size)\n",
    "\n",
    "c=0\n",
    "for p in range(train_font_data.shape[0]):\n",
    "    if np.argmax(train_font_data[p,-10:])==3:\n",
    "        c+=1\n",
    "        if c==10:\n",
    "            print('new domain test count')\n",
    "            plt.imshow(train_font_data[p,:-10].reshape([28,28]))\n",
    "            plt.show()\n",
    "original_domain_size=c\n",
    "print('new domain',original_domain_size)\n",
    "\n",
    "k3=np.zeros([target_domain_size,784])\n",
    "c=0\n",
    "for p in range(train_total_data.shape[0]):\n",
    "    if np.argmax(train_total_data[p,-10:])==3:\n",
    "        k3[c]=train_total_data[p,:-10]\n",
    "        c+=1\n",
    "        if c==30:\n",
    "            print('target domain test data')\n",
    "            plt.imshow(train_total_data[p,:-10].reshape([28,28]))\n",
    "            plt.show()\n",
    "\n",
    "k3_n=np.zeros([original_domain_size,784])\n",
    "c=0\n",
    "for p in range(train_font_data.shape[0]):\n",
    "    if np.argmax(train_font_data[p,-10:])==3:\n",
    "        k3_n[c]=train_font_data[p,:-10]\n",
    "        c+=1\n",
    "        if c==30:\n",
    "            print('new domain test data')\n",
    "            plt.imshow(train_font_data[p,:-10].reshape([28,28]))\n",
    "            plt.show()"
   ]
  },
  {
   "cell_type": "code",
   "execution_count": 11,
   "metadata": {},
   "outputs": [],
   "source": [
    "#设置两个 domain 的batch size\n",
    "target_batch = int(target_domain_size / batch_size)\n",
    "original_batch = int(original_domain_size / batch_size)"
   ]
  },
  {
   "cell_type": "code",
   "execution_count": 12,
   "metadata": {},
   "outputs": [
    {
     "name": "stderr",
     "output_type": "stream",
     "text": [
      "W0916 10:48:45.616662 140666206533440 deprecation_wrapper.py:119] From /home/yuemei.zhu/tensorflow-mnist-VAE/vae.py:5: The name tf.variable_scope is deprecated. Please use tf.compat.v1.variable_scope instead.\n",
      "\n",
      "W0916 10:48:46.713024 140666206533440 lazy_loader.py:50] \n",
      "The TensorFlow contrib module will not be included in TensorFlow 2.0.\n",
      "For more information, please see:\n",
      "  * https://github.com/tensorflow/community/blob/master/rfcs/20180907-contrib-sunset.md\n",
      "  * https://github.com/tensorflow/addons\n",
      "  * https://github.com/tensorflow/io (for I/O related ops)\n",
      "If you depend on functionality not listed there, please file an issue.\n",
      "\n",
      "W0916 10:48:46.715425 140666206533440 deprecation_wrapper.py:119] From /home/yuemei.zhu/tensorflow-mnist-VAE/vae.py:11: The name tf.get_variable is deprecated. Please use tf.compat.v1.get_variable instead.\n",
      "\n",
      "W0916 10:48:46.733060 140666206533440 deprecation.py:506] From /home/yuemei.zhu/tensorflow-mnist-VAE/vae.py:15: calling dropout (from tensorflow.python.ops.nn_ops) with keep_prob is deprecated and will be removed in a future version.\n",
      "Instructions for updating:\n",
      "Please use `rate` instead of `keep_prob`. Rate should be set to `rate = 1 - keep_prob`.\n",
      "W0916 10:48:46.790449 140666206533440 deprecation_wrapper.py:119] From /home/yuemei.zhu/tensorflow-mnist-VAE/vae.py:74: The name tf.random_normal is deprecated. Please use tf.random.normal instead.\n",
      "\n",
      "W0916 10:48:46.856936 140666206533440 deprecation_wrapper.py:119] From /home/yuemei.zhu/tensorflow-mnist-VAE/vae.py:81: The name tf.log is deprecated. Please use tf.math.log instead.\n",
      "\n",
      "W0916 10:48:47.011327 140666206533440 deprecation.py:323] From /home/yuemei.zhu/.local/lib/python3.6/site-packages/tensorflow/python/ops/math_grad.py:1250: add_dispatch_support.<locals>.wrapper (from tensorflow.python.ops.array_ops) is deprecated and will be removed in a future version.\n",
      "Instructions for updating:\n",
      "Use tf.where in 2.0, which has the same broadcast rule as np.where\n"
     ]
    }
   ],
   "source": [
    "\n",
    "\"\"\" build graph \"\"\"\n",
    "# input placeholders\n",
    "# In denoising-autoencoder, x_hat == x + noise, otherwise x_hat == x\n",
    "x_hat = tf.placeholder(tf.float32, shape=[None, dim_img], name='input_img')\n",
    "x = tf.placeholder(tf.float32, shape=[None, dim_img], name='target_img')\n",
    "\n",
    "# dropout\n",
    "keep_prob = tf.placeholder(tf.float32, name='keep_prob')\n",
    "\n",
    "# input for PMLR\n",
    "z_in = tf.placeholder(tf.float32, shape=[None, dim_z], name='latent_variable')\n",
    "\n",
    "#vae\n",
    "y, z, loss, neg_marginal_likelihood, KL_divergence = vae.autoencoder(x_hat, x, dim_img, dim_z, n_hidden, keep_prob)\n",
    "\n",
    "# network architecture beta vae\n",
    "# y, z, loss, neg_marginal_likelihood, KL_divergence = vae.autoencoder(x_hat, x, dim_img, dim_z, n_hidden, keep_prob,beta)\n",
    "\n",
    "# optimization\n",
    "train_op = tf.train.AdamOptimizer(learn_rate).minimize(loss)\n",
    "\n",
    "decoded = vae.decoder(z_in, dim_img, n_hidden)"
   ]
  },
  {
   "cell_type": "code",
   "execution_count": 13,
   "metadata": {},
   "outputs": [
    {
     "name": "stdout",
     "output_type": "stream",
     "text": [
      "epoch 0: L_tot 129.12 L_likelihood 105.13 L_divergence 23.99\n",
      "epoch 1: L_tot 122.53 L_likelihood 98.69 L_divergence 23.84\n",
      "epoch 2: L_tot 116.64 L_likelihood 92.30 L_divergence 24.34\n",
      "epoch 3: L_tot 116.14 L_likelihood 92.37 L_divergence 23.76\n",
      "epoch 4: L_tot 115.68 L_likelihood 91.49 L_divergence 24.19\n",
      "epoch 5: L_tot 110.69 L_likelihood 86.94 L_divergence 23.75\n",
      "epoch 6: L_tot 111.49 L_likelihood 87.83 L_divergence 23.66\n",
      "epoch 7: L_tot 110.53 L_likelihood 87.61 L_divergence 22.92\n",
      "epoch 8: L_tot 109.74 L_likelihood 86.16 L_divergence 23.58\n",
      "epoch 9: L_tot 110.82 L_likelihood 86.87 L_divergence 23.95\n"
     ]
    }
   ],
   "source": [
    "#两个domain数据一起训练vae\n",
    "test_2domain_data=np.concatenate([test_data,test_font_data],axis=0)\n",
    "np.random.seed(100)\n",
    "np.random.shuffle(test_2domain_data)\n",
    "test_labels=test_font_labels\n",
    "train_size=train_font_size+train_size\n",
    "test_data=test_2domain_data\n",
    "n_samples=train_size\n",
    "#同一类别在两个domain的隐变量的平均\n",
    "vec_ari_a=np.zeros([1,dim_z])\n",
    "vec_ari_b=np.zeros([1,dim_z])\n",
    "\n",
    "\"\"\" training \"\"\"\n",
    "\n",
    "# Plot for reproduce performance\n",
    "if PRR:\n",
    "    PRR = plot_utils.Plot_Reproduce_Performance(RESULTS_DIR, PRR_n_img_x, PRR_n_img_y, IMAGE_SIZE_MNIST, IMAGE_SIZE_MNIST, PRR_resize_factor)\n",
    "\n",
    "    x_PRR = test_data[0:PRR.n_tot_imgs, :]\n",
    "\n",
    "    x_PRR_img = x_PRR.reshape(PRR.n_tot_imgs, IMAGE_SIZE_MNIST, IMAGE_SIZE_MNIST)\n",
    "    PRR.save_images(x_PRR_img, name='input.jpg')\n",
    "\n",
    "    if ADD_NOISE:\n",
    "        x_PRR = x_PRR * np.random.randint(2, size=x_PRR.shape)\n",
    "        x_PRR += np.random.randint(2, size=x_PRR.shape)\n",
    "\n",
    "        x_PRR_img = x_PRR.reshape(PRR.n_tot_imgs, IMAGE_SIZE_MNIST, IMAGE_SIZE_MNIST)\n",
    "        PRR.save_images(x_PRR_img, name='input_noise.jpg')\n",
    "\n",
    "# Plot for manifold learning result\n",
    "if PMLR and dim_z == 2:\n",
    "\n",
    "    PMLR = plot_utils.Plot_Manifold_Learning_Result(RESULTS_DIR, PMLR_n_img_x, PMLR_n_img_y, IMAGE_SIZE_MNIST, IMAGE_SIZE_MNIST, PMLR_resize_factor, PMLR_z_range)\n",
    "\n",
    "    x_PMLR = test_data[0:PMLR_n_samples, :]\n",
    "    id_PMLR = test_labels[0:PMLR_n_samples, :]\n",
    "\n",
    "    if ADD_NOISE:\n",
    "        x_PMLR = x_PMLR * np.random.randint(2, size=x_PMLR.shape)\n",
    "        x_PMLR += np.random.randint(2, size=x_PMLR.shape)\n",
    "\n",
    "    decoded = vae.decoder(z_in, dim_img, n_hidden)\n",
    "total_batch = int(n_samples / batch_size)\n",
    "min_tot_loss = 1e99\n",
    "sess=tf.Session()\n",
    "# with tf.Session() as sess:\n",
    "\n",
    "sess.run(tf.global_variables_initializer(), feed_dict={keep_prob : 0.9})\n",
    "\n",
    "for epoch in range(n_epochs):\n",
    "\n",
    "    # Random shuffling\n",
    "#         np.random.shuffle(train_total_data)\n",
    "#         train_data_ = train_total_data[:, :-mnist_data.NUM_LABELS]\n",
    "#         np.random.shuffle(train_font_data)\n",
    "#         train_data_ = train_font_data[:, :-mnist_data.NUM_LABELS]\n",
    "    train_2domain_data=np.concatenate([train_total_data,train_font_data],axis=0)\n",
    "    np.random.shuffle(train_2domain_data)\n",
    "    train_data_ = train_2domain_data[:, :-mnist_data.NUM_LABELS]\n",
    "\n",
    "    # Loop over all batches\n",
    "    for i in range(total_batch):\n",
    "        # Compute the offset of the current minibatch in the data.\n",
    "        offset = (i * batch_size) % (n_samples)\n",
    "        batch_xs_input = train_data_[offset:(offset + batch_size), :]\n",
    "\n",
    "        batch_xs_target = batch_xs_input\n",
    "\n",
    "        # add salt & pepper noise\n",
    "        if ADD_NOISE:\n",
    "            batch_xs_input = batch_xs_input * np.random.randint(2, size=batch_xs_input.shape)\n",
    "            batch_xs_input += np.random.randint(2, size=batch_xs_input.shape)\n",
    "\n",
    "        _, tot_loss, loss_likelihood, loss_divergence = sess.run(\n",
    "            (train_op, loss, neg_marginal_likelihood, KL_divergence),\n",
    "            feed_dict={x_hat: batch_xs_input, x: batch_xs_target, keep_prob : 0.9})\n",
    "\n",
    "    # print cost every epoch\n",
    "    print(\"epoch %d: L_tot %03.2f L_likelihood %03.2f L_divergence %03.2f\" % (epoch, tot_loss, loss_likelihood, loss_divergence))\n",
    "\n",
    "    # if minimum loss is updated or final epoch, plot results\n",
    "    if min_tot_loss > tot_loss or epoch+1 == n_epochs:\n",
    "        min_tot_loss = tot_loss\n",
    "        # Plot for reproduce performance\n",
    "        if PRR:\n",
    "            y_PRR = sess.run(y, feed_dict={x_hat: x_PRR, keep_prob : 1})\n",
    "            y_PRR_img = y_PRR.reshape(PRR.n_tot_imgs, IMAGE_SIZE_MNIST, IMAGE_SIZE_MNIST)\n",
    "            PRR.save_images(y_PRR_img, name=\"/PRR_epoch_%02d\" %(epoch) + \".jpg\")\n",
    "\n",
    "        # Plot for manifold learning result\n",
    "        if PMLR and dim_z == 2:\n",
    "            y_PMLR = sess.run(decoded, feed_dict={z_in: PMLR.z, keep_prob : 1})\n",
    "            y_PMLR_img = y_PMLR.reshape(PMLR.n_tot_imgs, IMAGE_SIZE_MNIST, IMAGE_SIZE_MNIST)\n",
    "            PMLR.save_images(y_PMLR_img, name=\"/PMLR_epoch_%02d\" % (epoch) + \".jpg\")\n",
    "\n",
    "            # plot distribution of labeled images\n",
    "            z_PMLR = sess.run(z, feed_dict={x_hat: x_PMLR, keep_prob : 1})\n",
    "            PMLR.save_scattered_image(z_PMLR,id_PMLR, name=\"/PMLR_map_epoch_%02d\" % (epoch) + \".jpg\")\n"
   ]
  },
  {
   "cell_type": "code",
   "execution_count": 14,
   "metadata": {},
   "outputs": [],
   "source": [
    "###-----vector arithmetic-----###\n",
    "for offset in range(target_batch):\n",
    "    x_batch=k3[offset*batch_size:(offset+1)*batch_size]\n",
    "    z_batch = sess.run(z, feed_dict={x_hat: x_batch, keep_prob : 1})\n",
    "    vec_ari_a+=np.sum(z_batch,axis=0)\n",
    "vec_ari_a=vec_ari_a*1.0/(target_batch*batch_size)\n",
    "\n",
    "for offset in range(original_batch):\n",
    "    x_batch=k3_n[offset*batch_size:(offset+1)*batch_size]\n",
    "    z_batch = sess.run(z, feed_dict={x_hat: x_batch, keep_prob : 1})\n",
    "    vec_ari_b+=np.sum(z_batch,axis=0)\n",
    "vec_ari_b=vec_ari_b*1.0/(original_batch*batch_size)\n",
    "\n",
    "vec_ari_c=vec_ari_a-vec_ari_b\n",
    "\n"
   ]
  },
  {
   "cell_type": "code",
   "execution_count": 17,
   "metadata": {},
   "outputs": [
    {
     "data": {
      "image/png": "[encoded data removed]",
      "text/plain": [
       "<Figure size 432x288 with 1 Axes>"
      ]
     },
     "metadata": {
      "needs_background": "light"
     },
     "output_type": "display_data"
    },
    {
     "data": {
      "image/png": "[encoded data removed]",
      "text/plain": [
       "<Figure size 432x288 with 1 Axes>"
      ]
     },
     "metadata": {
      "needs_background": "light"
     },
     "output_type": "display_data"
    },
    {
     "data": {
      "image/png": "[encoded data removed]",
      "text/plain": [
       "<Figure size 432x288 with 1 Axes>"
      ]
     },
     "metadata": {
      "needs_background": "light"
     },
     "output_type": "display_data"
    }
   ],
   "source": [
    "plt.title('input image')\n",
    "# plt.subplots(131)\n",
    "plt.imshow(k3_n[5].reshape([28,28]))\n",
    "plt.show()\n",
    "x_sample=k3_n[5].reshape([1,-1])\n",
    "\n",
    "#     plt.imshow(k3_n[2].reshape([28,28]))\n",
    "z_sample = sess.run(z, feed_dict={x_hat: x_sample, keep_prob : 1})\n",
    "#     y_PMLR = sess.run(y, feed_dict={x_hat: x_sample, keep_prob : 1})\n",
    "y_PMLR = sess.run(decoded, feed_dict={z_in: z_sample, keep_prob : 1})\n",
    "np.clip(y_PMLR,1e-8, 1 - 1e-8,out=y_PMLR)\n",
    "plt.title('vae image')\n",
    "# plt.subplots(132)\n",
    "plt.imshow(y_PMLR.reshape([28,28]),cmap='gray')\n",
    "plt.show()\n",
    "\n",
    "y_PMLR = sess.run(decoded, feed_dict={z_in: z_sample+vec_ari_c, keep_prob : 1})\n",
    "np.clip(y_PMLR,1e-8, 1 - 1e-8,out=y_PMLR)\n",
    "\n",
    "plt.title('vae transform image')\n",
    "# plt.subplots(133)\n",
    "plt.imshow(y_PMLR.reshape([28,28]),cmap='gray')\n",
    "plt.show()\n"
   ]
  },
  {
   "cell_type": "code",
   "execution_count": null,
   "metadata": {},
   "outputs": [],
   "source": []
  }
 ],
 "metadata": {
  "kernelspec": {
   "display_name": "Python 3",
   "language": "python",
   "name": "python3"
  },
  "language_info": {
   "codemirror_mode": {
    "name": "ipython",
    "version": 3
   },
   "file_extension": ".py",
   "mimetype": "text/x-python",
   "name": "python",
   "nbconvert_exporter": "python",
   "pygments_lexer": "ipython3",
   "version": "3.6.8"
  }
 },
 "nbformat": 4,
 "nbformat_minor": 2
}
