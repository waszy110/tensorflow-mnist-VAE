{
 "cells": [
  {
   "cell_type": "code",
   "execution_count": 1,
   "metadata": {},
   "outputs": [],
   "source": [
    "import tensorflow as tf\n",
    "import numpy as np\n",
    "import mnist_data\n",
    "import os\n",
    "# import beta_vae as vae\n",
    "import vae\n",
    "import plot_utils\n",
    "import glob\n",
    "import random\n",
    "import matplotlib.pyplot as plt\n",
    "import cv2"
   ]
  },
  {
   "cell_type": "code",
   "execution_count": 2,
   "metadata": {},
   "outputs": [],
   "source": [
    "os.environ[\"CUDA_VISIBLE_DEVICES\"] = \"1\"\n",
    "IMAGE_SIZE_MNIST = 28\n",
    "dim_z=20\n",
    "n_hidden=500\n",
    "learn_rate=1e-3\n",
    "n_epochs=20\n",
    "batch_size=128\n",
    "path=os.path.join(os.getcwd(),'result')\n",
    "if not os.path.exists(path):\n",
    "    os.system('mkdir '+path)\n",
    "RESULTS_DIR=path\n",
    "ADD_NOISE=False\n",
    "dim_img = IMAGE_SIZE_MNIST**2\n",
    "beta=2.0\n",
    "\n",
    "PRR=True\n",
    "PRR_n_img_x=10\n",
    "PRR_n_img_y=10\n",
    "PRR_resize_factor=1.0\n",
    "PMLR=False\n",
    "PMLR_n_img_x=20\n",
    "PMLR_n_img_y=20\n",
    "PMLR_resize_factor=1.0\n",
    "PMLR_z_range=2.0\n",
    "PMLR_n_samples=5000"
   ]
  },
  {
   "cell_type": "markdown",
   "metadata": {},
   "source": [
    "准备new domain数据"
   ]
  },
  {
   "cell_type": "code",
   "execution_count": 3,
   "metadata": {},
   "outputs": [],
   "source": [
    "newdata_path=os.path.join(os.getcwd(),'mnist/pr')\n",
    "propotion=0.7\n",
    "random.seed(100)\n",
    "imlist=os.listdir(newdata_path)\n",
    "train_font_size=int(len(imlist)*0.7)\n",
    "random.shuffle(imlist)\n",
    "trainlist=imlist[:train_font_size]\n",
    "testlist=imlist[train_font_size:]\n",
    "test_font_size=len(testlist)\n",
    "one_hot=np.eye(10)\n",
    "train_font_data=np.zeros([train_font_size,794])\n",
    "test_font_data=np.zeros([test_font_size,784])\n",
    "test_font_labels=np.zeros([test_font_size,10])\n",
    "c=0\n",
    "for im in trainlist:\n",
    "    label=int(im.split('_')[0])\n",
    "#     print(label)\n",
    "    img=cv2.imread(newdata_path+'/'+im,0).reshape(784)/255.0\n",
    "#     print(img.shape)\n",
    "    train_font_data[c]=np.concatenate([img,one_hot[label]])\n",
    "    \n",
    "    c+=1\n",
    "    \n",
    "c=0\n",
    "for im in testlist:\n",
    "    label=int(im.split('_')[0])\n",
    "    img=cv2.imread(newdata_path+'/'+im,0).reshape(784)/255.0\n",
    "    test_font_data[c]=img\n",
    "    test_font_labels[c]=one_hot[label]\n",
    "    c+=1\n"
   ]
  },
  {
   "cell_type": "code",
   "execution_count": 4,
   "metadata": {},
   "outputs": [
    {
     "data": {
      "text/plain": [
       "array([0., 1., 0., 0., 0., 0., 0., 0., 0., 0.])"
      ]
     },
     "execution_count": 4,
     "metadata": {},
     "output_type": "execute_result"
    },
    {
     "data": {
      "image/png": "[encoded data removed]",
      "text/plain": [
       "<Figure size 432x288 with 1 Axes>"
      ]
     },
     "metadata": {
      "needs_background": "light"
     },
     "output_type": "display_data"
    }
   ],
   "source": [
    "plt.imshow(train_font_data[1,:-10].reshape([28,28]))\n",
    "train_font_data[1,-10:]"
   ]
  },
  {
   "cell_type": "markdown",
   "metadata": {},
   "source": [
    "准备original domain 数据"
   ]
  },
  {
   "cell_type": "code",
   "execution_count": 9,
   "metadata": {},
   "outputs": [
    {
     "name": "stdout",
     "output_type": "stream",
     "text": [
      "Extracting data/train-images-idx3-ubyte.gz\n",
      "Extracting data/train-labels-idx1-ubyte.gz\n",
      "Extracting data/t10k-images-idx3-ubyte.gz\n",
      "Extracting data/t10k-labels-idx1-ubyte.gz\n"
     ]
    }
   ],
   "source": [
    "# train_total_data, train_size, _, _, test_data, test_labels = mnist_data.prepare_MNIST_data()"
   ]
  },
  {
   "cell_type": "markdown",
   "metadata": {},
   "source": [
    "train_total_data采用one-hot编码"
   ]
  },
  {
   "cell_type": "code",
   "execution_count": 8,
   "metadata": {},
   "outputs": [
    {
     "data": {
      "text/plain": [
       "array([0., 0., 0., 1., 0., 0., 0., 0., 0., 0.])"
      ]
     },
     "execution_count": 8,
     "metadata": {},
     "output_type": "execute_result"
    },
    {
     "data": {
      "image/png": "[encoded data removed]",
      "text/plain": [
       "<Figure size 432x288 with 1 Axes>"
      ]
     },
     "metadata": {
      "needs_background": "light"
     },
     "output_type": "display_data"
    }
   ],
   "source": [
    "# plt.imshow(train_total_data[1,:-10].reshape([28,28]))\n",
    "# train_total_data[1,-10:]"
   ]
  },
  {
   "cell_type": "code",
   "execution_count": 5,
   "metadata": {},
   "outputs": [
    {
     "name": "stderr",
     "output_type": "stream",
     "text": [
      "WARNING: Logging before flag parsing goes to stderr.\n",
      "W0914 11:22:12.142266 139752263956288 deprecation_wrapper.py:119] From /home/yuemei.zhu/tensorflow-mnist-VAE/vae.py:5: The name tf.variable_scope is deprecated. Please use tf.compat.v1.variable_scope instead.\n",
      "\n",
      "W0914 11:22:12.980520 139752263956288 lazy_loader.py:50] \n",
      "The TensorFlow contrib module will not be included in TensorFlow 2.0.\n",
      "For more information, please see:\n",
      "  * https://github.com/tensorflow/community/blob/master/rfcs/20180907-contrib-sunset.md\n",
      "  * https://github.com/tensorflow/addons\n",
      "  * https://github.com/tensorflow/io (for I/O related ops)\n",
      "If you depend on functionality not listed there, please file an issue.\n",
      "\n",
      "W0914 11:22:12.982122 139752263956288 deprecation_wrapper.py:119] From /home/yuemei.zhu/tensorflow-mnist-VAE/vae.py:11: The name tf.get_variable is deprecated. Please use tf.compat.v1.get_variable instead.\n",
      "\n",
      "W0914 11:22:12.997444 139752263956288 deprecation.py:506] From /home/yuemei.zhu/tensorflow-mnist-VAE/vae.py:15: calling dropout (from tensorflow.python.ops.nn_ops) with keep_prob is deprecated and will be removed in a future version.\n",
      "Instructions for updating:\n",
      "Please use `rate` instead of `keep_prob`. Rate should be set to `rate = 1 - keep_prob`.\n",
      "W0914 11:22:13.047174 139752263956288 deprecation_wrapper.py:119] From /home/yuemei.zhu/tensorflow-mnist-VAE/vae.py:74: The name tf.random_normal is deprecated. Please use tf.random.normal instead.\n",
      "\n",
      "W0914 11:22:13.108414 139752263956288 deprecation_wrapper.py:119] From /home/yuemei.zhu/tensorflow-mnist-VAE/vae.py:81: The name tf.log is deprecated. Please use tf.math.log instead.\n",
      "\n",
      "W0914 11:22:13.239187 139752263956288 deprecation.py:323] From /home/yuemei.zhu/.local/lib/python3.6/site-packages/tensorflow/python/ops/math_grad.py:1250: add_dispatch_support.<locals>.wrapper (from tensorflow.python.ops.array_ops) is deprecated and will be removed in a future version.\n",
      "Instructions for updating:\n",
      "Use tf.where in 2.0, which has the same broadcast rule as np.where\n"
     ]
    }
   ],
   "source": [
    "\n",
    "\"\"\" build graph \"\"\"\n",
    "# input placeholders\n",
    "# In denoising-autoencoder, x_hat == x + noise, otherwise x_hat == x\n",
    "x_hat = tf.placeholder(tf.float32, shape=[None, dim_img], name='input_img')\n",
    "x = tf.placeholder(tf.float32, shape=[None, dim_img], name='target_img')\n",
    "\n",
    "# dropout\n",
    "keep_prob = tf.placeholder(tf.float32, name='keep_prob')\n",
    "\n",
    "# input for PMLR\n",
    "z_in = tf.placeholder(tf.float32, shape=[None, dim_z], name='latent_variable')\n",
    "\n",
    "#vae\n",
    "y, z, loss, neg_marginal_likelihood, KL_divergence = vae.autoencoder(x_hat, x, dim_img, dim_z, n_hidden, keep_prob)\n",
    "\n",
    "# beta vae\n",
    "# y, z, loss, neg_marginal_likelihood, KL_divergence = vae.autoencoder(x_hat, x, dim_img, dim_z, n_hidden, keep_prob,beta)\n",
    "\n",
    "# optimization\n",
    "train_op = tf.train.AdamOptimizer(learn_rate).minimize(loss)"
   ]
  },
  {
   "cell_type": "code",
   "execution_count": 6,
   "metadata": {},
   "outputs": [],
   "source": [
    "test_data=test_font_data\n",
    "test_labels=test_font_labels\n",
    "train_size=train_font_size"
   ]
  },
  {
   "cell_type": "code",
   "execution_count": 7,
   "metadata": {},
   "outputs": [
    {
     "name": "stdout",
     "output_type": "stream",
     "text": [
      "epoch 0: L_tot 96.53 L_likelihood 85.98 L_divergence 10.54\n",
      "epoch 1: L_tot 78.96 L_likelihood 67.85 L_divergence 11.12\n",
      "epoch 2: L_tot 71.10 L_likelihood 58.55 L_divergence 12.55\n",
      "epoch 3: L_tot 70.23 L_likelihood 56.45 L_divergence 13.78\n",
      "epoch 4: L_tot 64.60 L_likelihood 51.23 L_divergence 13.37\n",
      "epoch 5: L_tot 62.75 L_likelihood 49.09 L_divergence 13.67\n",
      "epoch 6: L_tot 64.09 L_likelihood 49.34 L_divergence 14.74\n",
      "epoch 7: L_tot 62.80 L_likelihood 47.81 L_divergence 14.99\n",
      "epoch 8: L_tot 58.25 L_likelihood 44.27 L_divergence 13.98\n",
      "epoch 9: L_tot 62.01 L_likelihood 47.06 L_divergence 14.95\n",
      "epoch 10: L_tot 59.85 L_likelihood 45.62 L_divergence 14.23\n",
      "epoch 11: L_tot 55.89 L_likelihood 41.75 L_divergence 14.14\n",
      "epoch 12: L_tot 59.28 L_likelihood 43.57 L_divergence 15.71\n",
      "epoch 13: L_tot 56.67 L_likelihood 40.44 L_divergence 16.23\n",
      "epoch 14: L_tot 55.52 L_likelihood 40.92 L_divergence 14.60\n",
      "epoch 15: L_tot 55.70 L_likelihood 41.19 L_divergence 14.51\n",
      "epoch 16: L_tot 56.52 L_likelihood 41.65 L_divergence 14.87\n",
      "epoch 17: L_tot 54.69 L_likelihood 40.08 L_divergence 14.61\n",
      "epoch 18: L_tot 55.25 L_likelihood 39.74 L_divergence 15.51\n",
      "epoch 19: L_tot 58.42 L_likelihood 42.71 L_divergence 15.70\n"
     ]
    }
   ],
   "source": [
    "n_samples=train_size\n",
    "\"\"\" training \"\"\"\n",
    "\n",
    "# Plot for reproduce performance\n",
    "if PRR:\n",
    "    PRR = plot_utils.Plot_Reproduce_Performance(RESULTS_DIR, PRR_n_img_x, PRR_n_img_y, IMAGE_SIZE_MNIST, IMAGE_SIZE_MNIST, PRR_resize_factor)\n",
    "\n",
    "    x_PRR = test_data[0:PRR.n_tot_imgs, :]\n",
    "\n",
    "    x_PRR_img = x_PRR.reshape(PRR.n_tot_imgs, IMAGE_SIZE_MNIST, IMAGE_SIZE_MNIST)\n",
    "    PRR.save_images(x_PRR_img, name='input.jpg')\n",
    "\n",
    "    if ADD_NOISE:\n",
    "        x_PRR = x_PRR * np.random.randint(2, size=x_PRR.shape)\n",
    "        x_PRR += np.random.randint(2, size=x_PRR.shape)\n",
    "\n",
    "        x_PRR_img = x_PRR.reshape(PRR.n_tot_imgs, IMAGE_SIZE_MNIST, IMAGE_SIZE_MNIST)\n",
    "        PRR.save_images(x_PRR_img, name='input_noise.jpg')\n",
    "\n",
    "# Plot for manifold learning result\n",
    "if PMLR and dim_z == 2:\n",
    "\n",
    "    PMLR = plot_utils.Plot_Manifold_Learning_Result(RESULTS_DIR, PMLR_n_img_x, PMLR_n_img_y, IMAGE_SIZE_MNIST, IMAGE_SIZE_MNIST, PMLR_resize_factor, PMLR_z_range)\n",
    "\n",
    "    x_PMLR = test_data[0:PMLR_n_samples, :]\n",
    "    id_PMLR = test_labels[0:PMLR_n_samples, :]\n",
    "\n",
    "    if ADD_NOISE:\n",
    "        x_PMLR = x_PMLR * np.random.randint(2, size=x_PMLR.shape)\n",
    "        x_PMLR += np.random.randint(2, size=x_PMLR.shape)\n",
    "\n",
    "    decoded = vae.decoder(z_in, dim_img, n_hidden)\n",
    "total_batch = int(n_samples / batch_size)\n",
    "min_tot_loss = 1e99\n",
    "\n",
    "with tf.Session() as sess:\n",
    "\n",
    "    sess.run(tf.global_variables_initializer(), feed_dict={keep_prob : 0.9})\n",
    "\n",
    "    for epoch in range(n_epochs):\n",
    "\n",
    "        # Random shuffling\n",
    "#         np.random.shuffle(train_total_data)\n",
    "#         train_data_ = train_total_data[:, :-mnist_data.NUM_LABELS]\n",
    "        np.random.shuffle(train_font_data)\n",
    "        train_data_ = train_font_data[:, :-mnist_data.NUM_LABELS]\n",
    "\n",
    "\n",
    "        # Loop over all batches\n",
    "        for i in range(total_batch):\n",
    "            # Compute the offset of the current minibatch in the data.\n",
    "            offset = (i * batch_size) % (n_samples)\n",
    "            batch_xs_input = train_data_[offset:(offset + batch_size), :]\n",
    "\n",
    "            batch_xs_target = batch_xs_input\n",
    "\n",
    "            # add salt & pepper noise\n",
    "            if ADD_NOISE:\n",
    "                batch_xs_input = batch_xs_input * np.random.randint(2, size=batch_xs_input.shape)\n",
    "                batch_xs_input += np.random.randint(2, size=batch_xs_input.shape)\n",
    "\n",
    "            _, tot_loss, loss_likelihood, loss_divergence = sess.run(\n",
    "                (train_op, loss, neg_marginal_likelihood, KL_divergence),\n",
    "                feed_dict={x_hat: batch_xs_input, x: batch_xs_target, keep_prob : 0.9})\n",
    "\n",
    "        # print cost every epoch\n",
    "        print(\"epoch %d: L_tot %03.2f L_likelihood %03.2f L_divergence %03.2f\" % (epoch, tot_loss, loss_likelihood, loss_divergence))\n",
    "\n",
    "        # if minimum loss is updated or final epoch, plot results\n",
    "        if min_tot_loss > tot_loss or epoch+1 == n_epochs:\n",
    "            min_tot_loss = tot_loss\n",
    "            # Plot for reproduce performance\n",
    "            if PRR:\n",
    "                y_PRR = sess.run(y, feed_dict={x_hat: x_PRR, keep_prob : 1})\n",
    "                y_PRR_img = y_PRR.reshape(PRR.n_tot_imgs, IMAGE_SIZE_MNIST, IMAGE_SIZE_MNIST)\n",
    "                PRR.save_images(y_PRR_img, name=\"/PRR_epoch_%02d\" %(epoch) + \".jpg\")\n",
    "\n",
    "            # Plot for manifold learning result\n",
    "            if PMLR and dim_z == 2:\n",
    "                y_PMLR = sess.run(decoded, feed_dict={z_in: PMLR.z, keep_prob : 1})\n",
    "                y_PMLR_img = y_PMLR.reshape(PMLR.n_tot_imgs, IMAGE_SIZE_MNIST, IMAGE_SIZE_MNIST)\n",
    "                PMLR.save_images(y_PMLR_img, name=\"/PMLR_epoch_%02d\" % (epoch) + \".jpg\")\n",
    "\n",
    "                # plot distribution of labeled images\n",
    "                z_PMLR = sess.run(z, feed_dict={x_hat: x_PMLR, keep_prob : 1})\n",
    "                PMLR.save_scattered_image(z_PMLR,id_PMLR, name=\"/PMLR_map_epoch_%02d\" % (epoch) + \".jpg\")\n"
   ]
  },
  {
   "cell_type": "code",
   "execution_count": null,
   "metadata": {},
   "outputs": [],
   "source": []
  }
 ],
 "metadata": {
  "kernelspec": {
   "display_name": "Python 3",
   "language": "python",
   "name": "python3"
  },
  "language_info": {
   "codemirror_mode": {
    "name": "ipython",
    "version": 3
   },
   "file_extension": ".py",
   "mimetype": "text/x-python",
   "name": "python",
   "nbconvert_exporter": "python",
   "pygments_lexer": "ipython3",
   "version": "3.6.7"
  }
 },
 "nbformat": 4,
 "nbformat_minor": 2
}
